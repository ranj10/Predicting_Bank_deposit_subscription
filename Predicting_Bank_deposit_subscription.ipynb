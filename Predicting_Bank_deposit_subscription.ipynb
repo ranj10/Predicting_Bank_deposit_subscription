{
  "nbformat": 4,
  "nbformat_minor": 0,
  "metadata": {
    "colab": {
      "provenance": [],
      "include_colab_link": true
    },
    "kernelspec": {
      "name": "python3",
      "display_name": "Python 3"
    },
    "language_info": {
      "name": "python"
    }
  },
  "cells": [
    {
      "cell_type": "markdown",
      "metadata": {
        "id": "view-in-github",
        "colab_type": "text"
      },
      "source": [
        "<a href=\"https://colab.research.google.com/github/ranj10/Predicting_Bank_deposit_subscription/blob/main/Predicting_Bank_deposit_subscription.ipynb\" target=\"_parent\"><img src=\"https://colab.research.google.com/assets/colab-badge.svg\" alt=\"Open In Colab\"/></a>"
      ]
    },
    {
      "cell_type": "markdown",
      "source": [
        "Introduction: When a customer places funds in a term deposit, it’s similar to a loan to the bank. The bank will hold the funds for a set time and can use them to invest elsewhere to make a return. Let’s say the bank gives the initial depositor a return of 2% for the use of funds in a term deposit. The bank can then use the money on deposit for a loan to a customer, charging a 6% interest rate for a net margin of 4%. Term deposits can help keep their financial operation running."
      ],
      "metadata": {
        "id": "BKefiB6YCnlp"
      }
    },
    {
      "cell_type": "markdown",
      "source": [
        "AIM: Considering certain factors we need to classify whether or not a customer subscribes to the term deposit upon getting a call from a bank’s representative."
      ],
      "metadata": {
        "id": "S86xaJ7BdBBI"
      }
    },
    {
      "cell_type": "code",
      "execution_count": null,
      "metadata": {
        "id": "o3iKut-jFJw3",
        "colab": {
          "base_uri": "https://localhost:8080/"
        },
        "outputId": "f2338223-060d-429f-dac2-6929990d2dfc"
      },
      "outputs": [
        {
          "output_type": "stream",
          "name": "stdout",
          "text": [
            "Looking in indexes: https://pypi.org/simple, https://us-python.pkg.dev/colab-wheels/public/simple/\n",
            "Collecting pyforest\n",
            "  Downloading pyforest-1.1.0.tar.gz (15 kB)\n",
            "  Preparing metadata (setup.py) ... \u001b[?25l\u001b[?25hdone\n",
            "Building wheels for collected packages: pyforest\n",
            "  Building wheel for pyforest (setup.py) ... \u001b[?25l\u001b[?25hdone\n",
            "  Created wheel for pyforest: filename=pyforest-1.1.0-py2.py3-none-any.whl size=14607 sha256=89cae74675684e02d0677a6ae7c9e10ea49ed5f35d57e21bf7934cb0099182db\n",
            "  Stored in directory: /root/.cache/pip/wheels/21/2d/19/8b5488f0caea6d892333413745640532d40d70e6b5351d7633\n",
            "Successfully built pyforest\n",
            "Installing collected packages: pyforest\n",
            "Successfully installed pyforest-1.1.0\n"
          ]
        }
      ],
      "source": [
        "# Installing pyforest\n",
        "pip install pyforest"
      ]
    },
    {
      "cell_type": "code",
      "source": [
        "#importing pyforest\n",
        "from pyforest import *   # if you install pyforest and import everything from it, it covers most of the libraries we require.\n",
        "# I am reading the file below without importing pandas , that was possible because of pyforest"
      ],
      "metadata": {
        "id": "J0YgPaPcGTZX"
      },
      "execution_count": null,
      "outputs": []
    },
    {
      "cell_type": "code",
      "source": [
        "#reading data\n",
        "data=pd.read_csv(\"bank-term-deposit.csv\")"
      ],
      "metadata": {
        "id": "YaRMIpWqLPam",
        "colab": {
          "base_uri": "https://localhost:8080/",
          "height": 17
        },
        "outputId": "58dd8874-fdd1-44f9-8ddc-02334eb53af2"
      },
      "execution_count": null,
      "outputs": [
        {
          "output_type": "display_data",
          "data": {
            "text/plain": [
              "<IPython.core.display.Javascript object>"
            ],
            "application/javascript": [
              "\n",
              "        if (window._pyforest_update_imports_cell) { window._pyforest_update_imports_cell('from sklearn.linear_model import LogisticRegression\\nfrom sklearn.linear_model import Lasso\\nfrom sklearn.linear_model import LassoCV\\nimport plotly.express as px\\nfrom sklearn.preprocessing import PolynomialFeatures\\nimport xgboost as xgb\\nfrom sklearn.ensemble import GradientBoostingRegressor\\nimport pandas as pd\\nfrom sklearn.linear_model import ElasticNet\\nfrom sklearn.ensemble import GradientBoostingClassifier\\nfrom sklearn.model_selection import KFold\\nfrom sklearn.feature_extraction.text import CountVectorizer\\nfrom sklearn.model_selection import GridSearchCV\\nfrom sklearn.preprocessing import MinMaxScaler\\nimport plotly as py\\nimport pickle\\nfrom sklearn.linear_model import LinearRegression\\nfrom sklearn.preprocessing import OneHotEncoder\\nfrom pathlib import Path\\nfrom sklearn.linear_model import ElasticNetCV\\nimport pydot\\nfrom PIL import Image\\nfrom sklearn.decomposition import PCA\\nfrom sklearn.model_selection import train_test_split\\nfrom sklearn import svm\\nfrom statsmodels.tsa.arima_model import ARIMA\\nfrom sklearn.cluster import KMeans\\nfrom sklearn.ensemble import RandomForestClassifier\\nimport altair as alt'); }\n",
              "    "
            ]
          },
          "metadata": {}
        }
      ]
    },
    {
      "cell_type": "markdown",
      "source": [
        "# Exploratory Data Analysis"
      ],
      "metadata": {
        "id": "nJUp3EkReRTJ"
      }
    },
    {
      "cell_type": "markdown",
      "source": [
        "Although there are many definations for EDA,we want you to understand the objective of performing EDA.\n",
        "\n",
        "Through EDA we get answers for a few questions before getting started with the data cleaning and building statistical models.\n",
        "\n",
        "The questions we need to answers through EDA could be,\n",
        "\n",
        "1. What are the basic traits of the dataset we are going to work on?\n",
        "ex: it's shape, datatypes, description, uniqueness, size, missing values.\n",
        "\n",
        "2. Is the data sufficient? the reason for this question is some algorithms need good amount of data to produce efficient results?\n",
        "\n",
        "3. do the Independent variables have any relationship between them?\n",
        "ex: multicolinearlity, how strong are they related to target variable?\n",
        "\n",
        "4. What can we deduce from each of the variables(through visuals)?\n",
        "\n",
        "5. What can we deduce from the relationship between each of the variables(multivariate analysis)?\n",
        "\n",
        "4. lastly, the type and complexity of the dataset."
      ],
      "metadata": {
        "id": "Li0YW8eleVvb"
      }
    },
    {
      "cell_type": "code",
      "source": [
        "data.head(5)"
      ],
      "metadata": {
        "id": "ov1UmPRXL_kY",
        "colab": {
          "base_uri": "https://localhost:8080/",
          "height": 297
        },
        "outputId": "eb4aa8e2-c2e5-4f97-9e27-0bb550c1b5e5"
      },
      "execution_count": null,
      "outputs": [
        {
          "output_type": "execute_result",
          "data": {
            "text/plain": [
              "   Age        Job  Marital    Education  Default housing Loan    Contact  \\\n",
              "0   56  housemaid  married     basic.4y       no      no   no  telephone   \n",
              "1   57   services  married  high.school  unknown      no   no  telephone   \n",
              "2   37   services  married  high.school       no     yes   no  telephone   \n",
              "3   40     admin.  married     basic.6y       no      no   no  telephone   \n",
              "4   56   services  married  high.school       no      no  yes  telephone   \n",
              "\n",
              "  Month day_of_week  ...  campaign  pdays  previous     poutcome empvarrate  \\\n",
              "0   may         mon  ...         1    999         0  nonexistent        1.1   \n",
              "1   may         mon  ...         1    999         0  nonexistent        1.1   \n",
              "2   may         mon  ...         1    999         0  nonexistent        1.1   \n",
              "3   may         mon  ...         1    999         0  nonexistent        1.1   \n",
              "4   may         mon  ...         1    999         0  nonexistent        1.1   \n",
              "\n",
              "   conspriceidx  consconfidx  euribor3m  nremployed   y  \n",
              "0        93.994        -36.4      4.857      5191.0  no  \n",
              "1        93.994        -36.4      4.857      5191.0  no  \n",
              "2        93.994        -36.4      4.857      5191.0  no  \n",
              "3        93.994        -36.4      4.857      5191.0  no  \n",
              "4        93.994        -36.4      4.857      5191.0  no  \n",
              "\n",
              "[5 rows x 21 columns]"
            ],
            "text/html": [
              "\n",
              "  <div id=\"df-d27da5e3-0dc2-4acc-8a92-dcc0d6aa87ae\">\n",
              "    <div class=\"colab-df-container\">\n",
              "      <div>\n",
              "<style scoped>\n",
              "    .dataframe tbody tr th:only-of-type {\n",
              "        vertical-align: middle;\n",
              "    }\n",
              "\n",
              "    .dataframe tbody tr th {\n",
              "        vertical-align: top;\n",
              "    }\n",
              "\n",
              "    .dataframe thead th {\n",
              "        text-align: right;\n",
              "    }\n",
              "</style>\n",
              "<table border=\"1\" class=\"dataframe\">\n",
              "  <thead>\n",
              "    <tr style=\"text-align: right;\">\n",
              "      <th></th>\n",
              "      <th>Age</th>\n",
              "      <th>Job</th>\n",
              "      <th>Marital</th>\n",
              "      <th>Education</th>\n",
              "      <th>Default</th>\n",
              "      <th>housing</th>\n",
              "      <th>Loan</th>\n",
              "      <th>Contact</th>\n",
              "      <th>Month</th>\n",
              "      <th>day_of_week</th>\n",
              "      <th>...</th>\n",
              "      <th>campaign</th>\n",
              "      <th>pdays</th>\n",
              "      <th>previous</th>\n",
              "      <th>poutcome</th>\n",
              "      <th>empvarrate</th>\n",
              "      <th>conspriceidx</th>\n",
              "      <th>consconfidx</th>\n",
              "      <th>euribor3m</th>\n",
              "      <th>nremployed</th>\n",
              "      <th>y</th>\n",
              "    </tr>\n",
              "  </thead>\n",
              "  <tbody>\n",
              "    <tr>\n",
              "      <th>0</th>\n",
              "      <td>56</td>\n",
              "      <td>housemaid</td>\n",
              "      <td>married</td>\n",
              "      <td>basic.4y</td>\n",
              "      <td>no</td>\n",
              "      <td>no</td>\n",
              "      <td>no</td>\n",
              "      <td>telephone</td>\n",
              "      <td>may</td>\n",
              "      <td>mon</td>\n",
              "      <td>...</td>\n",
              "      <td>1</td>\n",
              "      <td>999</td>\n",
              "      <td>0</td>\n",
              "      <td>nonexistent</td>\n",
              "      <td>1.1</td>\n",
              "      <td>93.994</td>\n",
              "      <td>-36.4</td>\n",
              "      <td>4.857</td>\n",
              "      <td>5191.0</td>\n",
              "      <td>no</td>\n",
              "    </tr>\n",
              "    <tr>\n",
              "      <th>1</th>\n",
              "      <td>57</td>\n",
              "      <td>services</td>\n",
              "      <td>married</td>\n",
              "      <td>high.school</td>\n",
              "      <td>unknown</td>\n",
              "      <td>no</td>\n",
              "      <td>no</td>\n",
              "      <td>telephone</td>\n",
              "      <td>may</td>\n",
              "      <td>mon</td>\n",
              "      <td>...</td>\n",
              "      <td>1</td>\n",
              "      <td>999</td>\n",
              "      <td>0</td>\n",
              "      <td>nonexistent</td>\n",
              "      <td>1.1</td>\n",
              "      <td>93.994</td>\n",
              "      <td>-36.4</td>\n",
              "      <td>4.857</td>\n",
              "      <td>5191.0</td>\n",
              "      <td>no</td>\n",
              "    </tr>\n",
              "    <tr>\n",
              "      <th>2</th>\n",
              "      <td>37</td>\n",
              "      <td>services</td>\n",
              "      <td>married</td>\n",
              "      <td>high.school</td>\n",
              "      <td>no</td>\n",
              "      <td>yes</td>\n",
              "      <td>no</td>\n",
              "      <td>telephone</td>\n",
              "      <td>may</td>\n",
              "      <td>mon</td>\n",
              "      <td>...</td>\n",
              "      <td>1</td>\n",
              "      <td>999</td>\n",
              "      <td>0</td>\n",
              "      <td>nonexistent</td>\n",
              "      <td>1.1</td>\n",
              "      <td>93.994</td>\n",
              "      <td>-36.4</td>\n",
              "      <td>4.857</td>\n",
              "      <td>5191.0</td>\n",
              "      <td>no</td>\n",
              "    </tr>\n",
              "    <tr>\n",
              "      <th>3</th>\n",
              "      <td>40</td>\n",
              "      <td>admin.</td>\n",
              "      <td>married</td>\n",
              "      <td>basic.6y</td>\n",
              "      <td>no</td>\n",
              "      <td>no</td>\n",
              "      <td>no</td>\n",
              "      <td>telephone</td>\n",
              "      <td>may</td>\n",
              "      <td>mon</td>\n",
              "      <td>...</td>\n",
              "      <td>1</td>\n",
              "      <td>999</td>\n",
              "      <td>0</td>\n",
              "      <td>nonexistent</td>\n",
              "      <td>1.1</td>\n",
              "      <td>93.994</td>\n",
              "      <td>-36.4</td>\n",
              "      <td>4.857</td>\n",
              "      <td>5191.0</td>\n",
              "      <td>no</td>\n",
              "    </tr>\n",
              "    <tr>\n",
              "      <th>4</th>\n",
              "      <td>56</td>\n",
              "      <td>services</td>\n",
              "      <td>married</td>\n",
              "      <td>high.school</td>\n",
              "      <td>no</td>\n",
              "      <td>no</td>\n",
              "      <td>yes</td>\n",
              "      <td>telephone</td>\n",
              "      <td>may</td>\n",
              "      <td>mon</td>\n",
              "      <td>...</td>\n",
              "      <td>1</td>\n",
              "      <td>999</td>\n",
              "      <td>0</td>\n",
              "      <td>nonexistent</td>\n",
              "      <td>1.1</td>\n",
              "      <td>93.994</td>\n",
              "      <td>-36.4</td>\n",
              "      <td>4.857</td>\n",
              "      <td>5191.0</td>\n",
              "      <td>no</td>\n",
              "    </tr>\n",
              "  </tbody>\n",
              "</table>\n",
              "<p>5 rows × 21 columns</p>\n",
              "</div>\n",
              "      <button class=\"colab-df-convert\" onclick=\"convertToInteractive('df-d27da5e3-0dc2-4acc-8a92-dcc0d6aa87ae')\"\n",
              "              title=\"Convert this dataframe to an interactive table.\"\n",
              "              style=\"display:none;\">\n",
              "        \n",
              "  <svg xmlns=\"http://www.w3.org/2000/svg\" height=\"24px\"viewBox=\"0 0 24 24\"\n",
              "       width=\"24px\">\n",
              "    <path d=\"M0 0h24v24H0V0z\" fill=\"none\"/>\n",
              "    <path d=\"M18.56 5.44l.94 2.06.94-2.06 2.06-.94-2.06-.94-.94-2.06-.94 2.06-2.06.94zm-11 1L8.5 8.5l.94-2.06 2.06-.94-2.06-.94L8.5 2.5l-.94 2.06-2.06.94zm10 10l.94 2.06.94-2.06 2.06-.94-2.06-.94-.94-2.06-.94 2.06-2.06.94z\"/><path d=\"M17.41 7.96l-1.37-1.37c-.4-.4-.92-.59-1.43-.59-.52 0-1.04.2-1.43.59L10.3 9.45l-7.72 7.72c-.78.78-.78 2.05 0 2.83L4 21.41c.39.39.9.59 1.41.59.51 0 1.02-.2 1.41-.59l7.78-7.78 2.81-2.81c.8-.78.8-2.07 0-2.86zM5.41 20L4 18.59l7.72-7.72 1.47 1.35L5.41 20z\"/>\n",
              "  </svg>\n",
              "      </button>\n",
              "      \n",
              "  <style>\n",
              "    .colab-df-container {\n",
              "      display:flex;\n",
              "      flex-wrap:wrap;\n",
              "      gap: 12px;\n",
              "    }\n",
              "\n",
              "    .colab-df-convert {\n",
              "      background-color: #E8F0FE;\n",
              "      border: none;\n",
              "      border-radius: 50%;\n",
              "      cursor: pointer;\n",
              "      display: none;\n",
              "      fill: #1967D2;\n",
              "      height: 32px;\n",
              "      padding: 0 0 0 0;\n",
              "      width: 32px;\n",
              "    }\n",
              "\n",
              "    .colab-df-convert:hover {\n",
              "      background-color: #E2EBFA;\n",
              "      box-shadow: 0px 1px 2px rgba(60, 64, 67, 0.3), 0px 1px 3px 1px rgba(60, 64, 67, 0.15);\n",
              "      fill: #174EA6;\n",
              "    }\n",
              "\n",
              "    [theme=dark] .colab-df-convert {\n",
              "      background-color: #3B4455;\n",
              "      fill: #D2E3FC;\n",
              "    }\n",
              "\n",
              "    [theme=dark] .colab-df-convert:hover {\n",
              "      background-color: #434B5C;\n",
              "      box-shadow: 0px 1px 3px 1px rgba(0, 0, 0, 0.15);\n",
              "      filter: drop-shadow(0px 1px 2px rgba(0, 0, 0, 0.3));\n",
              "      fill: #FFFFFF;\n",
              "    }\n",
              "  </style>\n",
              "\n",
              "      <script>\n",
              "        const buttonEl =\n",
              "          document.querySelector('#df-d27da5e3-0dc2-4acc-8a92-dcc0d6aa87ae button.colab-df-convert');\n",
              "        buttonEl.style.display =\n",
              "          google.colab.kernel.accessAllowed ? 'block' : 'none';\n",
              "\n",
              "        async function convertToInteractive(key) {\n",
              "          const element = document.querySelector('#df-d27da5e3-0dc2-4acc-8a92-dcc0d6aa87ae');\n",
              "          const dataTable =\n",
              "            await google.colab.kernel.invokeFunction('convertToInteractive',\n",
              "                                                     [key], {});\n",
              "          if (!dataTable) return;\n",
              "\n",
              "          const docLinkHtml = 'Like what you see? Visit the ' +\n",
              "            '<a target=\"_blank\" href=https://colab.research.google.com/notebooks/data_table.ipynb>data table notebook</a>'\n",
              "            + ' to learn more about interactive tables.';\n",
              "          element.innerHTML = '';\n",
              "          dataTable['output_type'] = 'display_data';\n",
              "          await google.colab.output.renderOutput(dataTable, element);\n",
              "          const docLink = document.createElement('div');\n",
              "          docLink.innerHTML = docLinkHtml;\n",
              "          element.appendChild(docLink);\n",
              "        }\n",
              "      </script>\n",
              "    </div>\n",
              "  </div>\n",
              "  "
            ]
          },
          "metadata": {},
          "execution_count": 55
        }
      ]
    },
    {
      "cell_type": "code",
      "source": [
        "data.isnull().sum()"
      ],
      "metadata": {
        "id": "yFnDjDlnMRia",
        "colab": {
          "base_uri": "https://localhost:8080/"
        },
        "outputId": "d4bdc9e0-22c0-4690-8e4a-2a510fae8ea8"
      },
      "execution_count": null,
      "outputs": [
        {
          "output_type": "execute_result",
          "data": {
            "text/plain": [
              "Age             0\n",
              "Job             0\n",
              "Marital         0\n",
              "Education       0\n",
              "Default         0\n",
              "housing         0\n",
              "Loan            0\n",
              "Contact         0\n",
              "Month           0\n",
              "day_of_week     0\n",
              "duration        0\n",
              "campaign        0\n",
              "pdays           0\n",
              "previous        0\n",
              "poutcome        0\n",
              "empvarrate      0\n",
              "conspriceidx    0\n",
              "consconfidx     0\n",
              "euribor3m       0\n",
              "nremployed      0\n",
              "y               0\n",
              "dtype: int64"
            ]
          },
          "metadata": {},
          "execution_count": 56
        }
      ]
    },
    {
      "cell_type": "code",
      "source": [
        "data[\"Job\"].unique()"
      ],
      "metadata": {
        "id": "V6S21lFHMohc",
        "colab": {
          "base_uri": "https://localhost:8080/"
        },
        "outputId": "a5762d87-ca3e-4dbd-cfe3-f0edb36ed737"
      },
      "execution_count": null,
      "outputs": [
        {
          "output_type": "execute_result",
          "data": {
            "text/plain": [
              "array(['housemaid', 'services', 'admin.', 'blue-collar', 'technician',\n",
              "       'retired', 'management', 'unemployed', 'self-employed', 'unknown',\n",
              "       'entrepreneur', 'student'], dtype=object)"
            ]
          },
          "metadata": {},
          "execution_count": 57
        }
      ]
    },
    {
      "cell_type": "code",
      "source": [
        "data.info()"
      ],
      "metadata": {
        "id": "cbQyM5PuM5cp",
        "colab": {
          "base_uri": "https://localhost:8080/"
        },
        "outputId": "ad0ce32d-ec1a-46eb-e7c0-1f52982205af"
      },
      "execution_count": null,
      "outputs": [
        {
          "output_type": "stream",
          "name": "stdout",
          "text": [
            "<class 'pandas.core.frame.DataFrame'>\n",
            "RangeIndex: 41188 entries, 0 to 41187\n",
            "Data columns (total 21 columns):\n",
            " #   Column        Non-Null Count  Dtype  \n",
            "---  ------        --------------  -----  \n",
            " 0   Age           41188 non-null  int64  \n",
            " 1   Job           41188 non-null  object \n",
            " 2   Marital       41188 non-null  object \n",
            " 3   Education     41188 non-null  object \n",
            " 4   Default       41188 non-null  object \n",
            " 5   housing       41188 non-null  object \n",
            " 6   Loan          41188 non-null  object \n",
            " 7   Contact       41188 non-null  object \n",
            " 8   Month         41188 non-null  object \n",
            " 9   day_of_week   41188 non-null  object \n",
            " 10  duration      41188 non-null  int64  \n",
            " 11  campaign      41188 non-null  int64  \n",
            " 12  pdays         41188 non-null  int64  \n",
            " 13  previous      41188 non-null  int64  \n",
            " 14  poutcome      41188 non-null  object \n",
            " 15  empvarrate    41188 non-null  float64\n",
            " 16  conspriceidx  41188 non-null  float64\n",
            " 17  consconfidx   41188 non-null  float64\n",
            " 18  euribor3m     41188 non-null  float64\n",
            " 19  nremployed    41188 non-null  float64\n",
            " 20  y             41188 non-null  object \n",
            "dtypes: float64(5), int64(5), object(11)\n",
            "memory usage: 6.6+ MB\n"
          ]
        }
      ]
    },
    {
      "cell_type": "code",
      "source": [
        "data.shape"
      ],
      "metadata": {
        "id": "603oI0uTNOpW",
        "colab": {
          "base_uri": "https://localhost:8080/"
        },
        "outputId": "8a560d97-6624-4503-b44d-4200d0e382f1"
      },
      "execution_count": null,
      "outputs": [
        {
          "output_type": "execute_result",
          "data": {
            "text/plain": [
              "(41188, 21)"
            ]
          },
          "metadata": {},
          "execution_count": 59
        }
      ]
    },
    {
      "cell_type": "code",
      "source": [
        "# Let's check the presence of missing values using missingno.\n",
        "from matplotlib import pyplot as plt\n",
        "import missingno as msno\n",
        "msno.matrix(data)"
      ],
      "metadata": {
        "id": "frOIFWyqGTxr",
        "colab": {
          "base_uri": "https://localhost:8080/",
          "height": 616
        },
        "outputId": "cee31b05-f1be-4dcf-d1d8-1332f3f19990"
      },
      "execution_count": null,
      "outputs": [
        {
          "output_type": "execute_result",
          "data": {
            "text/plain": [
              "<AxesSubplot:>"
            ]
          },
          "metadata": {},
          "execution_count": 60
        },
        {
          "output_type": "display_data",
          "data": {
            "text/plain": [
              "<Figure size 1800x720 with 2 Axes>"
            ],
            "image/png": "[encoded data removed]"
          },
          "metadata": {
            "needs_background": "light"
          }
        }
      ]
    },
    {
      "cell_type": "markdown",
      "source": [
        "We can be certain that we have no missing values in the dataset after viewing the above plot"
      ],
      "metadata": {
        "id": "1xxipKvwBXnC"
      }
    },
    {
      "cell_type": "code",
      "source": [
        "data.describe()"
      ],
      "metadata": {
        "id": "SMZwCFc4LdT9",
        "colab": {
          "base_uri": "https://localhost:8080/",
          "height": 297
        },
        "outputId": "c441aa09-fdca-40c1-dff4-3101efe90f25"
      },
      "execution_count": null,
      "outputs": [
        {
          "output_type": "execute_result",
          "data": {
            "text/plain": [
              "               Age      duration      campaign         pdays      previous  \\\n",
              "count  41188.00000  41188.000000  41188.000000  41188.000000  41188.000000   \n",
              "mean      40.02406    258.285010      2.567593    962.475454      0.172963   \n",
              "std       10.42125    259.279249      2.770014    186.910907      0.494901   \n",
              "min       17.00000      0.000000      1.000000      0.000000      0.000000   \n",
              "25%       32.00000    102.000000      1.000000    999.000000      0.000000   \n",
              "50%       38.00000    180.000000      2.000000    999.000000      0.000000   \n",
              "75%       47.00000    319.000000      3.000000    999.000000      0.000000   \n",
              "max       98.00000   4918.000000     56.000000    999.000000      7.000000   \n",
              "\n",
              "         empvarrate  conspriceidx   consconfidx     euribor3m    nremployed  \n",
              "count  41188.000000  41188.000000  41188.000000  41188.000000  41188.000000  \n",
              "mean       0.081886     93.575664    -40.502600      3.621291   5167.035911  \n",
              "std        1.570960      0.578840      4.628198      1.734447     72.251528  \n",
              "min       -3.400000     92.201000    -50.800000      0.634000   4963.600000  \n",
              "25%       -1.800000     93.075000    -42.700000      1.344000   5099.100000  \n",
              "50%        1.100000     93.749000    -41.800000      4.857000   5191.000000  \n",
              "75%        1.400000     93.994000    -36.400000      4.961000   5228.100000  \n",
              "max        1.400000     94.767000    -26.900000      5.045000   5228.100000  "
            ],
            "text/html": [
              "\n",
              "  <div id=\"df-61139899-b1af-411e-a308-86da5db8f876\">\n",
              "    <div class=\"colab-df-container\">\n",
              "      <div>\n",
              "<style scoped>\n",
              "    .dataframe tbody tr th:only-of-type {\n",
              "        vertical-align: middle;\n",
              "    }\n",
              "\n",
              "    .dataframe tbody tr th {\n",
              "        vertical-align: top;\n",
              "    }\n",
              "\n",
              "    .dataframe thead th {\n",
              "        text-align: right;\n",
              "    }\n",
              "</style>\n",
              "<table border=\"1\" class=\"dataframe\">\n",
              "  <thead>\n",
              "    <tr style=\"text-align: right;\">\n",
              "      <th></th>\n",
              "      <th>Age</th>\n",
              "      <th>duration</th>\n",
              "      <th>campaign</th>\n",
              "      <th>pdays</th>\n",
              "      <th>previous</th>\n",
              "      <th>empvarrate</th>\n",
              "      <th>conspriceidx</th>\n",
              "      <th>consconfidx</th>\n",
              "      <th>euribor3m</th>\n",
              "      <th>nremployed</th>\n",
              "    </tr>\n",
              "  </thead>\n",
              "  <tbody>\n",
              "    <tr>\n",
              "      <th>count</th>\n",
              "      <td>41188.00000</td>\n",
              "      <td>41188.000000</td>\n",
              "      <td>41188.000000</td>\n",
              "      <td>41188.000000</td>\n",
              "      <td>41188.000000</td>\n",
              "      <td>41188.000000</td>\n",
              "      <td>41188.000000</td>\n",
              "      <td>41188.000000</td>\n",
              "      <td>41188.000000</td>\n",
              "      <td>41188.000000</td>\n",
              "    </tr>\n",
              "    <tr>\n",
              "      <th>mean</th>\n",
              "      <td>40.02406</td>\n",
              "      <td>258.285010</td>\n",
              "      <td>2.567593</td>\n",
              "      <td>962.475454</td>\n",
              "      <td>0.172963</td>\n",
              "      <td>0.081886</td>\n",
              "      <td>93.575664</td>\n",
              "      <td>-40.502600</td>\n",
              "      <td>3.621291</td>\n",
              "      <td>5167.035911</td>\n",
              "    </tr>\n",
              "    <tr>\n",
              "      <th>std</th>\n",
              "      <td>10.42125</td>\n",
              "      <td>259.279249</td>\n",
              "      <td>2.770014</td>\n",
              "      <td>186.910907</td>\n",
              "      <td>0.494901</td>\n",
              "      <td>1.570960</td>\n",
              "      <td>0.578840</td>\n",
              "      <td>4.628198</td>\n",
              "      <td>1.734447</td>\n",
              "      <td>72.251528</td>\n",
              "    </tr>\n",
              "    <tr>\n",
              "      <th>min</th>\n",
              "      <td>17.00000</td>\n",
              "      <td>0.000000</td>\n",
              "      <td>1.000000</td>\n",
              "      <td>0.000000</td>\n",
              "      <td>0.000000</td>\n",
              "      <td>-3.400000</td>\n",
              "      <td>92.201000</td>\n",
              "      <td>-50.800000</td>\n",
              "      <td>0.634000</td>\n",
              "      <td>4963.600000</td>\n",
              "    </tr>\n",
              "    <tr>\n",
              "      <th>25%</th>\n",
              "      <td>32.00000</td>\n",
              "      <td>102.000000</td>\n",
              "      <td>1.000000</td>\n",
              "      <td>999.000000</td>\n",
              "      <td>0.000000</td>\n",
              "      <td>-1.800000</td>\n",
              "      <td>93.075000</td>\n",
              "      <td>-42.700000</td>\n",
              "      <td>1.344000</td>\n",
              "      <td>5099.100000</td>\n",
              "    </tr>\n",
              "    <tr>\n",
              "      <th>50%</th>\n",
              "      <td>38.00000</td>\n",
              "      <td>180.000000</td>\n",
              "      <td>2.000000</td>\n",
              "      <td>999.000000</td>\n",
              "      <td>0.000000</td>\n",
              "      <td>1.100000</td>\n",
              "      <td>93.749000</td>\n",
              "      <td>-41.800000</td>\n",
              "      <td>4.857000</td>\n",
              "      <td>5191.000000</td>\n",
              "    </tr>\n",
              "    <tr>\n",
              "      <th>75%</th>\n",
              "      <td>47.00000</td>\n",
              "      <td>319.000000</td>\n",
              "      <td>3.000000</td>\n",
              "      <td>999.000000</td>\n",
              "      <td>0.000000</td>\n",
              "      <td>1.400000</td>\n",
              "      <td>93.994000</td>\n",
              "      <td>-36.400000</td>\n",
              "      <td>4.961000</td>\n",
              "      <td>5228.100000</td>\n",
              "    </tr>\n",
              "    <tr>\n",
              "      <th>max</th>\n",
              "      <td>98.00000</td>\n",
              "      <td>4918.000000</td>\n",
              "      <td>56.000000</td>\n",
              "      <td>999.000000</td>\n",
              "      <td>7.000000</td>\n",
              "      <td>1.400000</td>\n",
              "      <td>94.767000</td>\n",
              "      <td>-26.900000</td>\n",
              "      <td>5.045000</td>\n",
              "      <td>5228.100000</td>\n",
              "    </tr>\n",
              "  </tbody>\n",
              "</table>\n",
              "</div>\n",
              "      <button class=\"colab-df-convert\" onclick=\"convertToInteractive('df-61139899-b1af-411e-a308-86da5db8f876')\"\n",
              "              title=\"Convert this dataframe to an interactive table.\"\n",
              "              style=\"display:none;\">\n",
              "        \n",
              "  <svg xmlns=\"http://www.w3.org/2000/svg\" height=\"24px\"viewBox=\"0 0 24 24\"\n",
              "       width=\"24px\">\n",
              "    <path d=\"M0 0h24v24H0V0z\" fill=\"none\"/>\n",
              "    <path d=\"M18.56 5.44l.94 2.06.94-2.06 2.06-.94-2.06-.94-.94-2.06-.94 2.06-2.06.94zm-11 1L8.5 8.5l.94-2.06 2.06-.94-2.06-.94L8.5 2.5l-.94 2.06-2.06.94zm10 10l.94 2.06.94-2.06 2.06-.94-2.06-.94-.94-2.06-.94 2.06-2.06.94z\"/><path d=\"M17.41 7.96l-1.37-1.37c-.4-.4-.92-.59-1.43-.59-.52 0-1.04.2-1.43.59L10.3 9.45l-7.72 7.72c-.78.78-.78 2.05 0 2.83L4 21.41c.39.39.9.59 1.41.59.51 0 1.02-.2 1.41-.59l7.78-7.78 2.81-2.81c.8-.78.8-2.07 0-2.86zM5.41 20L4 18.59l7.72-7.72 1.47 1.35L5.41 20z\"/>\n",
              "  </svg>\n",
              "      </button>\n",
              "      \n",
              "  <style>\n",
              "    .colab-df-container {\n",
              "      display:flex;\n",
              "      flex-wrap:wrap;\n",
              "      gap: 12px;\n",
              "    }\n",
              "\n",
              "    .colab-df-convert {\n",
              "      background-color: #E8F0FE;\n",
              "      border: none;\n",
              "      border-radius: 50%;\n",
              "      cursor: pointer;\n",
              "      display: none;\n",
              "      fill: #1967D2;\n",
              "      height: 32px;\n",
              "      padding: 0 0 0 0;\n",
              "      width: 32px;\n",
              "    }\n",
              "\n",
              "    .colab-df-convert:hover {\n",
              "      background-color: #E2EBFA;\n",
              "      box-shadow: 0px 1px 2px rgba(60, 64, 67, 0.3), 0px 1px 3px 1px rgba(60, 64, 67, 0.15);\n",
              "      fill: #174EA6;\n",
              "    }\n",
              "\n",
              "    [theme=dark] .colab-df-convert {\n",
              "      background-color: #3B4455;\n",
              "      fill: #D2E3FC;\n",
              "    }\n",
              "\n",
              "    [theme=dark] .colab-df-convert:hover {\n",
              "      background-color: #434B5C;\n",
              "      box-shadow: 0px 1px 3px 1px rgba(0, 0, 0, 0.15);\n",
              "      filter: drop-shadow(0px 1px 2px rgba(0, 0, 0, 0.3));\n",
              "      fill: #FFFFFF;\n",
              "    }\n",
              "  </style>\n",
              "\n",
              "      <script>\n",
              "        const buttonEl =\n",
              "          document.querySelector('#df-61139899-b1af-411e-a308-86da5db8f876 button.colab-df-convert');\n",
              "        buttonEl.style.display =\n",
              "          google.colab.kernel.accessAllowed ? 'block' : 'none';\n",
              "\n",
              "        async function convertToInteractive(key) {\n",
              "          const element = document.querySelector('#df-61139899-b1af-411e-a308-86da5db8f876');\n",
              "          const dataTable =\n",
              "            await google.colab.kernel.invokeFunction('convertToInteractive',\n",
              "                                                     [key], {});\n",
              "          if (!dataTable) return;\n",
              "\n",
              "          const docLinkHtml = 'Like what you see? Visit the ' +\n",
              "            '<a target=\"_blank\" href=https://colab.research.google.com/notebooks/data_table.ipynb>data table notebook</a>'\n",
              "            + ' to learn more about interactive tables.';\n",
              "          element.innerHTML = '';\n",
              "          dataTable['output_type'] = 'display_data';\n",
              "          await google.colab.output.renderOutput(dataTable, element);\n",
              "          const docLink = document.createElement('div');\n",
              "          docLink.innerHTML = docLinkHtml;\n",
              "          element.appendChild(docLink);\n",
              "        }\n",
              "      </script>\n",
              "    </div>\n",
              "  </div>\n",
              "  "
            ]
          },
          "metadata": {},
          "execution_count": 61
        }
      ]
    },
    {
      "cell_type": "code",
      "source": [
        "data.describe(include = 'all')"
      ],
      "metadata": {
        "id": "Op3ZCzl--2yn",
        "colab": {
          "base_uri": "https://localhost:8080/",
          "height": 483
        },
        "outputId": "749fd779-34e6-4aad-c9a2-c5a9c3b6fc37"
      },
      "execution_count": null,
      "outputs": [
        {
          "output_type": "execute_result",
          "data": {
            "text/plain": [
              "                Age     Job  Marital          Education Default housing  \\\n",
              "count   41188.00000   41188    41188              41188   41188   41188   \n",
              "unique          NaN      12        4                  8       3       3   \n",
              "top             NaN  admin.  married  university.degree      no     yes   \n",
              "freq            NaN   10422    24928              12168   32588   21576   \n",
              "mean       40.02406     NaN      NaN                NaN     NaN     NaN   \n",
              "std        10.42125     NaN      NaN                NaN     NaN     NaN   \n",
              "min        17.00000     NaN      NaN                NaN     NaN     NaN   \n",
              "25%        32.00000     NaN      NaN                NaN     NaN     NaN   \n",
              "50%        38.00000     NaN      NaN                NaN     NaN     NaN   \n",
              "75%        47.00000     NaN      NaN                NaN     NaN     NaN   \n",
              "max        98.00000     NaN      NaN                NaN     NaN     NaN   \n",
              "\n",
              "         Loan   Contact  Month day_of_week  ...      campaign         pdays  \\\n",
              "count   41188     41188  41188       41188  ...  41188.000000  41188.000000   \n",
              "unique      3         2     10           5  ...           NaN           NaN   \n",
              "top        no  cellular    may         thu  ...           NaN           NaN   \n",
              "freq    33950     26144  13769        8623  ...           NaN           NaN   \n",
              "mean      NaN       NaN    NaN         NaN  ...      2.567593    962.475454   \n",
              "std       NaN       NaN    NaN         NaN  ...      2.770014    186.910907   \n",
              "min       NaN       NaN    NaN         NaN  ...      1.000000      0.000000   \n",
              "25%       NaN       NaN    NaN         NaN  ...      1.000000    999.000000   \n",
              "50%       NaN       NaN    NaN         NaN  ...      2.000000    999.000000   \n",
              "75%       NaN       NaN    NaN         NaN  ...      3.000000    999.000000   \n",
              "max       NaN       NaN    NaN         NaN  ...     56.000000    999.000000   \n",
              "\n",
              "            previous     poutcome    empvarrate  conspriceidx   consconfidx  \\\n",
              "count   41188.000000        41188  41188.000000  41188.000000  41188.000000   \n",
              "unique           NaN            3           NaN           NaN           NaN   \n",
              "top              NaN  nonexistent           NaN           NaN           NaN   \n",
              "freq             NaN        35563           NaN           NaN           NaN   \n",
              "mean        0.172963          NaN      0.081886     93.575664    -40.502600   \n",
              "std         0.494901          NaN      1.570960      0.578840      4.628198   \n",
              "min         0.000000          NaN     -3.400000     92.201000    -50.800000   \n",
              "25%         0.000000          NaN     -1.800000     93.075000    -42.700000   \n",
              "50%         0.000000          NaN      1.100000     93.749000    -41.800000   \n",
              "75%         0.000000          NaN      1.400000     93.994000    -36.400000   \n",
              "max         7.000000          NaN      1.400000     94.767000    -26.900000   \n",
              "\n",
              "           euribor3m    nremployed      y  \n",
              "count   41188.000000  41188.000000  41188  \n",
              "unique           NaN           NaN      2  \n",
              "top              NaN           NaN     no  \n",
              "freq             NaN           NaN  36548  \n",
              "mean        3.621291   5167.035911    NaN  \n",
              "std         1.734447     72.251528    NaN  \n",
              "min         0.634000   4963.600000    NaN  \n",
              "25%         1.344000   5099.100000    NaN  \n",
              "50%         4.857000   5191.000000    NaN  \n",
              "75%         4.961000   5228.100000    NaN  \n",
              "max         5.045000   5228.100000    NaN  \n",
              "\n",
              "[11 rows x 21 columns]"
            ],
            "text/html": [
              "\n",
              "  <div id=\"df-19732632-943c-4593-b6fd-bf21a925682b\">\n",
              "    <div class=\"colab-df-container\">\n",
              "      <div>\n",
              "<style scoped>\n",
              "    .dataframe tbody tr th:only-of-type {\n",
              "        vertical-align: middle;\n",
              "    }\n",
              "\n",
              "    .dataframe tbody tr th {\n",
              "        vertical-align: top;\n",
              "    }\n",
              "\n",
              "    .dataframe thead th {\n",
              "        text-align: right;\n",
              "    }\n",
              "</style>\n",
              "<table border=\"1\" class=\"dataframe\">\n",
              "  <thead>\n",
              "    <tr style=\"text-align: right;\">\n",
              "      <th></th>\n",
              "      <th>Age</th>\n",
              "      <th>Job</th>\n",
              "      <th>Marital</th>\n",
              "      <th>Education</th>\n",
              "      <th>Default</th>\n",
              "      <th>housing</th>\n",
              "      <th>Loan</th>\n",
              "      <th>Contact</th>\n",
              "      <th>Month</th>\n",
              "      <th>day_of_week</th>\n",
              "      <th>...</th>\n",
              "      <th>campaign</th>\n",
              "      <th>pdays</th>\n",
              "      <th>previous</th>\n",
              "      <th>poutcome</th>\n",
              "      <th>empvarrate</th>\n",
              "      <th>conspriceidx</th>\n",
              "      <th>consconfidx</th>\n",
              "      <th>euribor3m</th>\n",
              "      <th>nremployed</th>\n",
              "      <th>y</th>\n",
              "    </tr>\n",
              "  </thead>\n",
              "  <tbody>\n",
              "    <tr>\n",
              "      <th>count</th>\n",
              "      <td>41188.00000</td>\n",
              "      <td>41188</td>\n",
              "      <td>41188</td>\n",
              "      <td>41188</td>\n",
              "      <td>41188</td>\n",
              "      <td>41188</td>\n",
              "      <td>41188</td>\n",
              "      <td>41188</td>\n",
              "      <td>41188</td>\n",
              "      <td>41188</td>\n",
              "      <td>...</td>\n",
              "      <td>41188.000000</td>\n",
              "      <td>41188.000000</td>\n",
              "      <td>41188.000000</td>\n",
              "      <td>41188</td>\n",
              "      <td>41188.000000</td>\n",
              "      <td>41188.000000</td>\n",
              "      <td>41188.000000</td>\n",
              "      <td>41188.000000</td>\n",
              "      <td>41188.000000</td>\n",
              "      <td>41188</td>\n",
              "    </tr>\n",
              "    <tr>\n",
              "      <th>unique</th>\n",
              "      <td>NaN</td>\n",
              "      <td>12</td>\n",
              "      <td>4</td>\n",
              "      <td>8</td>\n",
              "      <td>3</td>\n",
              "      <td>3</td>\n",
              "      <td>3</td>\n",
              "      <td>2</td>\n",
              "      <td>10</td>\n",
              "      <td>5</td>\n",
              "      <td>...</td>\n",
              "      <td>NaN</td>\n",
              "      <td>NaN</td>\n",
              "      <td>NaN</td>\n",
              "      <td>3</td>\n",
              "      <td>NaN</td>\n",
              "      <td>NaN</td>\n",
              "      <td>NaN</td>\n",
              "      <td>NaN</td>\n",
              "      <td>NaN</td>\n",
              "      <td>2</td>\n",
              "    </tr>\n",
              "    <tr>\n",
              "      <th>top</th>\n",
              "      <td>NaN</td>\n",
              "      <td>admin.</td>\n",
              "      <td>married</td>\n",
              "      <td>university.degree</td>\n",
              "      <td>no</td>\n",
              "      <td>yes</td>\n",
              "      <td>no</td>\n",
              "      <td>cellular</td>\n",
              "      <td>may</td>\n",
              "      <td>thu</td>\n",
              "      <td>...</td>\n",
              "      <td>NaN</td>\n",
              "      <td>NaN</td>\n",
              "      <td>NaN</td>\n",
              "      <td>nonexistent</td>\n",
              "      <td>NaN</td>\n",
              "      <td>NaN</td>\n",
              "      <td>NaN</td>\n",
              "      <td>NaN</td>\n",
              "      <td>NaN</td>\n",
              "      <td>no</td>\n",
              "    </tr>\n",
              "    <tr>\n",
              "      <th>freq</th>\n",
              "      <td>NaN</td>\n",
              "      <td>10422</td>\n",
              "      <td>24928</td>\n",
              "      <td>12168</td>\n",
              "      <td>32588</td>\n",
              "      <td>21576</td>\n",
              "      <td>33950</td>\n",
              "      <td>26144</td>\n",
              "      <td>13769</td>\n",
              "      <td>8623</td>\n",
              "      <td>...</td>\n",
              "      <td>NaN</td>\n",
              "      <td>NaN</td>\n",
              "      <td>NaN</td>\n",
              "      <td>35563</td>\n",
              "      <td>NaN</td>\n",
              "      <td>NaN</td>\n",
              "      <td>NaN</td>\n",
              "      <td>NaN</td>\n",
              "      <td>NaN</td>\n",
              "      <td>36548</td>\n",
              "    </tr>\n",
              "    <tr>\n",
              "      <th>mean</th>\n",
              "      <td>40.02406</td>\n",
              "      <td>NaN</td>\n",
              "      <td>NaN</td>\n",
              "      <td>NaN</td>\n",
              "      <td>NaN</td>\n",
              "      <td>NaN</td>\n",
              "      <td>NaN</td>\n",
              "      <td>NaN</td>\n",
              "      <td>NaN</td>\n",
              "      <td>NaN</td>\n",
              "      <td>...</td>\n",
              "      <td>2.567593</td>\n",
              "      <td>962.475454</td>\n",
              "      <td>0.172963</td>\n",
              "      <td>NaN</td>\n",
              "      <td>0.081886</td>\n",
              "      <td>93.575664</td>\n",
              "      <td>-40.502600</td>\n",
              "      <td>3.621291</td>\n",
              "      <td>5167.035911</td>\n",
              "      <td>NaN</td>\n",
              "    </tr>\n",
              "    <tr>\n",
              "      <th>std</th>\n",
              "      <td>10.42125</td>\n",
              "      <td>NaN</td>\n",
              "      <td>NaN</td>\n",
              "      <td>NaN</td>\n",
              "      <td>NaN</td>\n",
              "      <td>NaN</td>\n",
              "      <td>NaN</td>\n",
              "      <td>NaN</td>\n",
              "      <td>NaN</td>\n",
              "      <td>NaN</td>\n",
              "      <td>...</td>\n",
              "      <td>2.770014</td>\n",
              "      <td>186.910907</td>\n",
              "      <td>0.494901</td>\n",
              "      <td>NaN</td>\n",
              "      <td>1.570960</td>\n",
              "      <td>0.578840</td>\n",
              "      <td>4.628198</td>\n",
              "      <td>1.734447</td>\n",
              "      <td>72.251528</td>\n",
              "      <td>NaN</td>\n",
              "    </tr>\n",
              "    <tr>\n",
              "      <th>min</th>\n",
              "      <td>17.00000</td>\n",
              "      <td>NaN</td>\n",
              "      <td>NaN</td>\n",
              "      <td>NaN</td>\n",
              "      <td>NaN</td>\n",
              "      <td>NaN</td>\n",
              "      <td>NaN</td>\n",
              "      <td>NaN</td>\n",
              "      <td>NaN</td>\n",
              "      <td>NaN</td>\n",
              "      <td>...</td>\n",
              "      <td>1.000000</td>\n",
              "      <td>0.000000</td>\n",
              "      <td>0.000000</td>\n",
              "      <td>NaN</td>\n",
              "      <td>-3.400000</td>\n",
              "      <td>92.201000</td>\n",
              "      <td>-50.800000</td>\n",
              "      <td>0.634000</td>\n",
              "      <td>4963.600000</td>\n",
              "      <td>NaN</td>\n",
              "    </tr>\n",
              "    <tr>\n",
              "      <th>25%</th>\n",
              "      <td>32.00000</td>\n",
              "      <td>NaN</td>\n",
              "      <td>NaN</td>\n",
              "      <td>NaN</td>\n",
              "      <td>NaN</td>\n",
              "      <td>NaN</td>\n",
              "      <td>NaN</td>\n",
              "      <td>NaN</td>\n",
              "      <td>NaN</td>\n",
              "      <td>NaN</td>\n",
              "      <td>...</td>\n",
              "      <td>1.000000</td>\n",
              "      <td>999.000000</td>\n",
              "      <td>0.000000</td>\n",
              "      <td>NaN</td>\n",
              "      <td>-1.800000</td>\n",
              "      <td>93.075000</td>\n",
              "      <td>-42.700000</td>\n",
              "      <td>1.344000</td>\n",
              "      <td>5099.100000</td>\n",
              "      <td>NaN</td>\n",
              "    </tr>\n",
              "    <tr>\n",
              "      <th>50%</th>\n",
              "      <td>38.00000</td>\n",
              "      <td>NaN</td>\n",
              "      <td>NaN</td>\n",
              "      <td>NaN</td>\n",
              "      <td>NaN</td>\n",
              "      <td>NaN</td>\n",
              "      <td>NaN</td>\n",
              "      <td>NaN</td>\n",
              "      <td>NaN</td>\n",
              "      <td>NaN</td>\n",
              "      <td>...</td>\n",
              "      <td>2.000000</td>\n",
              "      <td>999.000000</td>\n",
              "      <td>0.000000</td>\n",
              "      <td>NaN</td>\n",
              "      <td>1.100000</td>\n",
              "      <td>93.749000</td>\n",
              "      <td>-41.800000</td>\n",
              "      <td>4.857000</td>\n",
              "      <td>5191.000000</td>\n",
              "      <td>NaN</td>\n",
              "    </tr>\n",
              "    <tr>\n",
              "      <th>75%</th>\n",
              "      <td>47.00000</td>\n",
              "      <td>NaN</td>\n",
              "      <td>NaN</td>\n",
              "      <td>NaN</td>\n",
              "      <td>NaN</td>\n",
              "      <td>NaN</td>\n",
              "      <td>NaN</td>\n",
              "      <td>NaN</td>\n",
              "      <td>NaN</td>\n",
              "      <td>NaN</td>\n",
              "      <td>...</td>\n",
              "      <td>3.000000</td>\n",
              "      <td>999.000000</td>\n",
              "      <td>0.000000</td>\n",
              "      <td>NaN</td>\n",
              "      <td>1.400000</td>\n",
              "      <td>93.994000</td>\n",
              "      <td>-36.400000</td>\n",
              "      <td>4.961000</td>\n",
              "      <td>5228.100000</td>\n",
              "      <td>NaN</td>\n",
              "    </tr>\n",
              "    <tr>\n",
              "      <th>max</th>\n",
              "      <td>98.00000</td>\n",
              "      <td>NaN</td>\n",
              "      <td>NaN</td>\n",
              "      <td>NaN</td>\n",
              "      <td>NaN</td>\n",
              "      <td>NaN</td>\n",
              "      <td>NaN</td>\n",
              "      <td>NaN</td>\n",
              "      <td>NaN</td>\n",
              "      <td>NaN</td>\n",
              "      <td>...</td>\n",
              "      <td>56.000000</td>\n",
              "      <td>999.000000</td>\n",
              "      <td>7.000000</td>\n",
              "      <td>NaN</td>\n",
              "      <td>1.400000</td>\n",
              "      <td>94.767000</td>\n",
              "      <td>-26.900000</td>\n",
              "      <td>5.045000</td>\n",
              "      <td>5228.100000</td>\n",
              "      <td>NaN</td>\n",
              "    </tr>\n",
              "  </tbody>\n",
              "</table>\n",
              "<p>11 rows × 21 columns</p>\n",
              "</div>\n",
              "      <button class=\"colab-df-convert\" onclick=\"convertToInteractive('df-19732632-943c-4593-b6fd-bf21a925682b')\"\n",
              "              title=\"Convert this dataframe to an interactive table.\"\n",
              "              style=\"display:none;\">\n",
              "        \n",
              "  <svg xmlns=\"http://www.w3.org/2000/svg\" height=\"24px\"viewBox=\"0 0 24 24\"\n",
              "       width=\"24px\">\n",
              "    <path d=\"M0 0h24v24H0V0z\" fill=\"none\"/>\n",
              "    <path d=\"M18.56 5.44l.94 2.06.94-2.06 2.06-.94-2.06-.94-.94-2.06-.94 2.06-2.06.94zm-11 1L8.5 8.5l.94-2.06 2.06-.94-2.06-.94L8.5 2.5l-.94 2.06-2.06.94zm10 10l.94 2.06.94-2.06 2.06-.94-2.06-.94-.94-2.06-.94 2.06-2.06.94z\"/><path d=\"M17.41 7.96l-1.37-1.37c-.4-.4-.92-.59-1.43-.59-.52 0-1.04.2-1.43.59L10.3 9.45l-7.72 7.72c-.78.78-.78 2.05 0 2.83L4 21.41c.39.39.9.59 1.41.59.51 0 1.02-.2 1.41-.59l7.78-7.78 2.81-2.81c.8-.78.8-2.07 0-2.86zM5.41 20L4 18.59l7.72-7.72 1.47 1.35L5.41 20z\"/>\n",
              "  </svg>\n",
              "      </button>\n",
              "      \n",
              "  <style>\n",
              "    .colab-df-container {\n",
              "      display:flex;\n",
              "      flex-wrap:wrap;\n",
              "      gap: 12px;\n",
              "    }\n",
              "\n",
              "    .colab-df-convert {\n",
              "      background-color: #E8F0FE;\n",
              "      border: none;\n",
              "      border-radius: 50%;\n",
              "      cursor: pointer;\n",
              "      display: none;\n",
              "      fill: #1967D2;\n",
              "      height: 32px;\n",
              "      padding: 0 0 0 0;\n",
              "      width: 32px;\n",
              "    }\n",
              "\n",
              "    .colab-df-convert:hover {\n",
              "      background-color: #E2EBFA;\n",
              "      box-shadow: 0px 1px 2px rgba(60, 64, 67, 0.3), 0px 1px 3px 1px rgba(60, 64, 67, 0.15);\n",
              "      fill: #174EA6;\n",
              "    }\n",
              "\n",
              "    [theme=dark] .colab-df-convert {\n",
              "      background-color: #3B4455;\n",
              "      fill: #D2E3FC;\n",
              "    }\n",
              "\n",
              "    [theme=dark] .colab-df-convert:hover {\n",
              "      background-color: #434B5C;\n",
              "      box-shadow: 0px 1px 3px 1px rgba(0, 0, 0, 0.15);\n",
              "      filter: drop-shadow(0px 1px 2px rgba(0, 0, 0, 0.3));\n",
              "      fill: #FFFFFF;\n",
              "    }\n",
              "  </style>\n",
              "\n",
              "      <script>\n",
              "        const buttonEl =\n",
              "          document.querySelector('#df-19732632-943c-4593-b6fd-bf21a925682b button.colab-df-convert');\n",
              "        buttonEl.style.display =\n",
              "          google.colab.kernel.accessAllowed ? 'block' : 'none';\n",
              "\n",
              "        async function convertToInteractive(key) {\n",
              "          const element = document.querySelector('#df-19732632-943c-4593-b6fd-bf21a925682b');\n",
              "          const dataTable =\n",
              "            await google.colab.kernel.invokeFunction('convertToInteractive',\n",
              "                                                     [key], {});\n",
              "          if (!dataTable) return;\n",
              "\n",
              "          const docLinkHtml = 'Like what you see? Visit the ' +\n",
              "            '<a target=\"_blank\" href=https://colab.research.google.com/notebooks/data_table.ipynb>data table notebook</a>'\n",
              "            + ' to learn more about interactive tables.';\n",
              "          element.innerHTML = '';\n",
              "          dataTable['output_type'] = 'display_data';\n",
              "          await google.colab.output.renderOutput(dataTable, element);\n",
              "          const docLink = document.createElement('div');\n",
              "          docLink.innerHTML = docLinkHtml;\n",
              "          element.appendChild(docLink);\n",
              "        }\n",
              "      </script>\n",
              "    </div>\n",
              "  </div>\n",
              "  "
            ]
          },
          "metadata": {},
          "execution_count": 62
        }
      ]
    },
    {
      "cell_type": "code",
      "source": [
        "# exploring all rows and columns\n",
        "#pd.options.display.max_columns = None\n",
        "#pd.options.display.max_rows = None\n",
        "#display(data)"
      ],
      "metadata": {
        "id": "LY2F0Z1u-3rw"
      },
      "execution_count": null,
      "outputs": []
    },
    {
      "cell_type": "code",
      "source": [
        "data[\"day_of_week\"].unique()"
      ],
      "metadata": {
        "id": "G7W7GVwlAqJ5",
        "colab": {
          "base_uri": "https://localhost:8080/"
        },
        "outputId": "e0e1e5b9-55fc-4d31-fa88-dacc3f7203ef"
      },
      "execution_count": null,
      "outputs": [
        {
          "output_type": "execute_result",
          "data": {
            "text/plain": [
              "array(['mon', 'tue', 'wed', 'thu', 'fri'], dtype=object)"
            ]
          },
          "metadata": {},
          "execution_count": 64
        }
      ]
    },
    {
      "cell_type": "code",
      "source": [
        "data.info() #age, duration,campaign,pdays,previous"
      ],
      "metadata": {
        "id": "Q47W8-L1D1fV",
        "colab": {
          "base_uri": "https://localhost:8080/"
        },
        "outputId": "1b9c5b01-340c-4b07-e21b-bd86cbdb41c9"
      },
      "execution_count": null,
      "outputs": [
        {
          "output_type": "stream",
          "name": "stdout",
          "text": [
            "<class 'pandas.core.frame.DataFrame'>\n",
            "RangeIndex: 41188 entries, 0 to 41187\n",
            "Data columns (total 21 columns):\n",
            " #   Column        Non-Null Count  Dtype  \n",
            "---  ------        --------------  -----  \n",
            " 0   Age           41188 non-null  int64  \n",
            " 1   Job           41188 non-null  object \n",
            " 2   Marital       41188 non-null  object \n",
            " 3   Education     41188 non-null  object \n",
            " 4   Default       41188 non-null  object \n",
            " 5   housing       41188 non-null  object \n",
            " 6   Loan          41188 non-null  object \n",
            " 7   Contact       41188 non-null  object \n",
            " 8   Month         41188 non-null  object \n",
            " 9   day_of_week   41188 non-null  object \n",
            " 10  duration      41188 non-null  int64  \n",
            " 11  campaign      41188 non-null  int64  \n",
            " 12  pdays         41188 non-null  int64  \n",
            " 13  previous      41188 non-null  int64  \n",
            " 14  poutcome      41188 non-null  object \n",
            " 15  empvarrate    41188 non-null  float64\n",
            " 16  conspriceidx  41188 non-null  float64\n",
            " 17  consconfidx   41188 non-null  float64\n",
            " 18  euribor3m     41188 non-null  float64\n",
            " 19  nremployed    41188 non-null  float64\n",
            " 20  y             41188 non-null  object \n",
            "dtypes: float64(5), int64(5), object(11)\n",
            "memory usage: 6.6+ MB\n"
          ]
        }
      ]
    },
    {
      "cell_type": "code",
      "source": [
        "# Checking the balance of Target variable and will apply smote later.\n",
        "data[\"y\"].value_counts()"
      ],
      "metadata": {
        "colab": {
          "base_uri": "https://localhost:8080/"
        },
        "id": "Q8lny52CnYw_",
        "outputId": "0ebc5cae-22ad-402f-a9fd-603e74a22eff"
      },
      "execution_count": null,
      "outputs": [
        {
          "output_type": "execute_result",
          "data": {
            "text/plain": [
              "no     36548\n",
              "yes     4640\n",
              "Name: y, dtype: int64"
            ]
          },
          "metadata": {},
          "execution_count": 66
        }
      ]
    },
    {
      "cell_type": "code",
      "source": [
        "data = pd.DataFrame(data) # checking correlation\n",
        "print(data.corr(method = 'spearman'))"
      ],
      "metadata": {
        "colab": {
          "base_uri": "https://localhost:8080/",
          "height": 408
        },
        "id": "CfKe7Y6hXsyJ",
        "outputId": "fef7e889-2c97-46d2-93ce-2f2066c15b0e"
      },
      "execution_count": null,
      "outputs": [
        {
          "output_type": "display_data",
          "data": {
            "text/plain": [
              "<IPython.core.display.Javascript object>"
            ],
            "application/javascript": [
              "\n",
              "        if (window._pyforest_update_imports_cell) { window._pyforest_update_imports_cell('import plotly as py\\nimport pydot\\nimport pickle\\nfrom sklearn.linear_model import LogisticRegression\\nfrom sklearn.model_selection import train_test_split\\nimport plotly.express as px\\nfrom sklearn import svm\\nimport pandas as pd\\nfrom sklearn.ensemble import RandomForestClassifier'); }\n",
              "    "
            ]
          },
          "metadata": {}
        },
        {
          "output_type": "stream",
          "name": "stdout",
          "text": [
            "                   Age  duration  campaign     pdays  previous  empvarrate  \\\n",
            "Age           1.000000 -0.002123  0.005715 -0.001062 -0.012643    0.045003   \n",
            "duration     -0.002123  1.000000 -0.080953 -0.083072  0.042407   -0.069201   \n",
            "campaign      0.005715 -0.080953  1.000000  0.055514 -0.087420    0.156360   \n",
            "pdays        -0.001062 -0.083072  0.055514  1.000000 -0.509583    0.227698   \n",
            "previous     -0.012643  0.042407 -0.087420 -0.509583  1.000000   -0.435293   \n",
            "empvarrate    0.045003 -0.069201  0.156360  0.227698 -0.435293    1.000000   \n",
            "conspriceidx  0.044790  0.002854  0.096494  0.056763 -0.282720    0.664890   \n",
            "consconfidx   0.114536 -0.008678 -0.001554 -0.077265 -0.115967    0.224693   \n",
            "euribor3m     0.054391 -0.078346  0.140512  0.278488 -0.454724    0.939915   \n",
            "nremployed    0.044789 -0.095225  0.144264  0.290673 -0.438721    0.944702   \n",
            "\n",
            "              conspriceidx  consconfidx  euribor3m  nremployed  \n",
            "Age               0.044790     0.114536   0.054391    0.044789  \n",
            "duration          0.002854    -0.008678  -0.078346   -0.095225  \n",
            "campaign          0.096494    -0.001554   0.140512    0.144264  \n",
            "pdays             0.056763    -0.077265   0.278488    0.290673  \n",
            "previous         -0.282720    -0.115967  -0.454724   -0.438721  \n",
            "empvarrate        0.664890     0.224693   0.939915    0.944702  \n",
            "conspriceidx      1.000000     0.245633   0.490970    0.464738  \n",
            "consconfidx       0.245633     1.000000   0.236646    0.132707  \n",
            "euribor3m         0.490970     0.236646   1.000000    0.928857  \n",
            "nremployed        0.464738     0.132707   0.928857    1.000000  \n"
          ]
        }
      ]
    },
    {
      "cell_type": "markdown",
      "source": [
        "Here are some of the visuals and the insights corresponding to them. we recommend you to create more visuals and provide insights accordingly."
      ],
      "metadata": {
        "id": "KTAYXsiNn_LQ"
      }
    },
    {
      "cell_type": "code",
      "source": [
        "# Checking the count of clients of each job role\n",
        "fig=px.bar(data.Job.value_counts().reset_index().rename(columns={'index':'Job','Job':'Count'}),x='Job',y='Count',color='Job',text='Count')\n",
        "fig.update_traces(marker=dict(line=dict(color='#00FF00', width=2)))\n",
        "fig.update_layout(title_x=0.5,title_text='<b>Job types of the clients')"
      ],
      "metadata": {
        "colab": {
          "base_uri": "https://localhost:8080/",
          "height": 542
        },
        "id": "gKKx8wp4CbCj",
        "outputId": "afb62a23-aba1-40a0-8460-7ab3a1dc9d56"
      },
      "execution_count": null,
      "outputs": [
        {
          "output_type": "display_data",
          "data": {
            "text/html": [
              "<html>\n",
              "<head><meta charset=\"utf-8\" /></head>\n",
              "<body>\n",
              "    <div>            <script src=\"https://cdnjs.cloudflare.com/ajax/libs/mathjax/2.7.5/MathJax.js?config=TeX-AMS-MML_SVG\"></script><script type=\"text/javascript\">if (window.MathJax) {MathJax.Hub.Config({SVG: {font: \"STIX-Web\"}});}</script>                <script type=\"text/javascript\">window.PlotlyConfig = {MathJaxConfig: 'local'};</script>\n",
              "        <script src=\"https://cdn.plot.ly/plotly-2.8.3.min.js\"></script>                <div id=\"e6cbd45f-4efb-4350-9f2f-56b36a683a60\" class=\"plotly-graph-div\" style=\"height:525px; width:100%;\"></div>            <script type=\"text/javascript\">                                    window.PLOTLYENV=window.PLOTLYENV || {};                                    if (document.getElementById(\"e6cbd45f-4efb-4350-9f2f-56b36a683a60\")) {                    Plotly.newPlot(                        \"e6cbd45f-4efb-4350-9f2f-56b36a683a60\",                        [{\"alignmentgroup\":\"True\",\"hovertemplate\":\"Job=%{x}<br>Count=%{text}<extra></extra>\",\"legendgroup\":\"admin.\",\"marker\":{\"color\":\"#636efa\",\"pattern\":{\"shape\":\"\"},\"line\":{\"color\":\"#00FF00\",\"width\":2}},\"name\":\"admin.\",\"offsetgroup\":\"admin.\",\"orientation\":\"v\",\"showlegend\":true,\"text\":[10422.0],\"textposition\":\"auto\",\"x\":[\"admin.\"],\"xaxis\":\"x\",\"y\":[10422],\"yaxis\":\"y\",\"type\":\"bar\"},{\"alignmentgroup\":\"True\",\"hovertemplate\":\"Job=%{x}<br>Count=%{text}<extra></extra>\",\"legendgroup\":\"blue-collar\",\"marker\":{\"color\":\"#EF553B\",\"pattern\":{\"shape\":\"\"},\"line\":{\"color\":\"#00FF00\",\"width\":2}},\"name\":\"blue-collar\",\"offsetgroup\":\"blue-collar\",\"orientation\":\"v\",\"showlegend\":true,\"text\":[9254.0],\"textposition\":\"auto\",\"x\":[\"blue-collar\"],\"xaxis\":\"x\",\"y\":[9254],\"yaxis\":\"y\",\"type\":\"bar\"},{\"alignmentgroup\":\"True\",\"hovertemplate\":\"Job=%{x}<br>Count=%{text}<extra></extra>\",\"legendgroup\":\"technician\",\"marker\":{\"color\":\"#00cc96\",\"pattern\":{\"shape\":\"\"},\"line\":{\"color\":\"#00FF00\",\"width\":2}},\"name\":\"technician\",\"offsetgroup\":\"technician\",\"orientation\":\"v\",\"showlegend\":true,\"text\":[6743.0],\"textposition\":\"auto\",\"x\":[\"technician\"],\"xaxis\":\"x\",\"y\":[6743],\"yaxis\":\"y\",\"type\":\"bar\"},{\"alignmentgroup\":\"True\",\"hovertemplate\":\"Job=%{x}<br>Count=%{text}<extra></extra>\",\"legendgroup\":\"services\",\"marker\":{\"color\":\"#ab63fa\",\"pattern\":{\"shape\":\"\"},\"line\":{\"color\":\"#00FF00\",\"width\":2}},\"name\":\"services\",\"offsetgroup\":\"services\",\"orientation\":\"v\",\"showlegend\":true,\"text\":[3969.0],\"textposition\":\"auto\",\"x\":[\"services\"],\"xaxis\":\"x\",\"y\":[3969],\"yaxis\":\"y\",\"type\":\"bar\"},{\"alignmentgroup\":\"True\",\"hovertemplate\":\"Job=%{x}<br>Count=%{text}<extra></extra>\",\"legendgroup\":\"management\",\"marker\":{\"color\":\"#FFA15A\",\"pattern\":{\"shape\":\"\"},\"line\":{\"color\":\"#00FF00\",\"width\":2}},\"name\":\"management\",\"offsetgroup\":\"management\",\"orientation\":\"v\",\"showlegend\":true,\"text\":[2924.0],\"textposition\":\"auto\",\"x\":[\"management\"],\"xaxis\":\"x\",\"y\":[2924],\"yaxis\":\"y\",\"type\":\"bar\"},{\"alignmentgroup\":\"True\",\"hovertemplate\":\"Job=%{x}<br>Count=%{text}<extra></extra>\",\"legendgroup\":\"retired\",\"marker\":{\"color\":\"#19d3f3\",\"pattern\":{\"shape\":\"\"},\"line\":{\"color\":\"#00FF00\",\"width\":2}},\"name\":\"retired\",\"offsetgroup\":\"retired\",\"orientation\":\"v\",\"showlegend\":true,\"text\":[1720.0],\"textposition\":\"auto\",\"x\":[\"retired\"],\"xaxis\":\"x\",\"y\":[1720],\"yaxis\":\"y\",\"type\":\"bar\"},{\"alignmentgroup\":\"True\",\"hovertemplate\":\"Job=%{x}<br>Count=%{text}<extra></extra>\",\"legendgroup\":\"entrepreneur\",\"marker\":{\"color\":\"#FF6692\",\"pattern\":{\"shape\":\"\"},\"line\":{\"color\":\"#00FF00\",\"width\":2}},\"name\":\"entrepreneur\",\"offsetgroup\":\"entrepreneur\",\"orientation\":\"v\",\"showlegend\":true,\"text\":[1456.0],\"textposition\":\"auto\",\"x\":[\"entrepreneur\"],\"xaxis\":\"x\",\"y\":[1456],\"yaxis\":\"y\",\"type\":\"bar\"},{\"alignmentgroup\":\"True\",\"hovertemplate\":\"Job=%{x}<br>Count=%{text}<extra></extra>\",\"legendgroup\":\"self-employed\",\"marker\":{\"color\":\"#B6E880\",\"pattern\":{\"shape\":\"\"},\"line\":{\"color\":\"#00FF00\",\"width\":2}},\"name\":\"self-employed\",\"offsetgroup\":\"self-employed\",\"orientation\":\"v\",\"showlegend\":true,\"text\":[1421.0],\"textposition\":\"auto\",\"x\":[\"self-employed\"],\"xaxis\":\"x\",\"y\":[1421],\"yaxis\":\"y\",\"type\":\"bar\"},{\"alignmentgroup\":\"True\",\"hovertemplate\":\"Job=%{x}<br>Count=%{text}<extra></extra>\",\"legendgroup\":\"housemaid\",\"marker\":{\"color\":\"#FF97FF\",\"pattern\":{\"shape\":\"\"},\"line\":{\"color\":\"#00FF00\",\"width\":2}},\"name\":\"housemaid\",\"offsetgroup\":\"housemaid\",\"orientation\":\"v\",\"showlegend\":true,\"text\":[1060.0],\"textposition\":\"auto\",\"x\":[\"housemaid\"],\"xaxis\":\"x\",\"y\":[1060],\"yaxis\":\"y\",\"type\":\"bar\"},{\"alignmentgroup\":\"True\",\"hovertemplate\":\"Job=%{x}<br>Count=%{text}<extra></extra>\",\"legendgroup\":\"unemployed\",\"marker\":{\"color\":\"#FECB52\",\"pattern\":{\"shape\":\"\"},\"line\":{\"color\":\"#00FF00\",\"width\":2}},\"name\":\"unemployed\",\"offsetgroup\":\"unemployed\",\"orientation\":\"v\",\"showlegend\":true,\"text\":[1014.0],\"textposition\":\"auto\",\"x\":[\"unemployed\"],\"xaxis\":\"x\",\"y\":[1014],\"yaxis\":\"y\",\"type\":\"bar\"},{\"alignmentgroup\":\"True\",\"hovertemplate\":\"Job=%{x}<br>Count=%{text}<extra></extra>\",\"legendgroup\":\"student\",\"marker\":{\"color\":\"#636efa\",\"pattern\":{\"shape\":\"\"},\"line\":{\"color\":\"#00FF00\",\"width\":2}},\"name\":\"student\",\"offsetgroup\":\"student\",\"orientation\":\"v\",\"showlegend\":true,\"text\":[875.0],\"textposition\":\"auto\",\"x\":[\"student\"],\"xaxis\":\"x\",\"y\":[875],\"yaxis\":\"y\",\"type\":\"bar\"},{\"alignmentgroup\":\"True\",\"hovertemplate\":\"Job=%{x}<br>Count=%{text}<extra></extra>\",\"legendgroup\":\"unknown\",\"marker\":{\"color\":\"#EF553B\",\"pattern\":{\"shape\":\"\"},\"line\":{\"color\":\"#00FF00\",\"width\":2}},\"name\":\"unknown\",\"offsetgroup\":\"unknown\",\"orientation\":\"v\",\"showlegend\":true,\"text\":[330.0],\"textposition\":\"auto\",\"x\":[\"unknown\"],\"xaxis\":\"x\",\"y\":[330],\"yaxis\":\"y\",\"type\":\"bar\"}],                        {\"template\":{\"data\":{\"bar\":[{\"error_x\":{\"color\":\"#2a3f5f\"},\"error_y\":{\"color\":\"#2a3f5f\"},\"marker\":{\"line\":{\"color\":\"#E5ECF6\",\"width\":0.5},\"pattern\":{\"fillmode\":\"overlay\",\"size\":10,\"solidity\":0.2}},\"type\":\"bar\"}],\"barpolar\":[{\"marker\":{\"line\":{\"color\":\"#E5ECF6\",\"width\":0.5},\"pattern\":{\"fillmode\":\"overlay\",\"size\":10,\"solidity\":0.2}},\"type\":\"barpolar\"}],\"carpet\":[{\"aaxis\":{\"endlinecolor\":\"#2a3f5f\",\"gridcolor\":\"white\",\"linecolor\":\"white\",\"minorgridcolor\":\"white\",\"startlinecolor\":\"#2a3f5f\"},\"baxis\":{\"endlinecolor\":\"#2a3f5f\",\"gridcolor\":\"white\",\"linecolor\":\"white\",\"minorgridcolor\":\"white\",\"startlinecolor\":\"#2a3f5f\"},\"type\":\"carpet\"}],\"choropleth\":[{\"colorbar\":{\"outlinewidth\":0,\"ticks\":\"\"},\"type\":\"choropleth\"}],\"contour\":[{\"colorbar\":{\"outlinewidth\":0,\"ticks\":\"\"},\"colorscale\":[[0.0,\"#0d0887\"],[0.1111111111111111,\"#46039f\"],[0.2222222222222222,\"#7201a8\"],[0.3333333333333333,\"#9c179e\"],[0.4444444444444444,\"#bd3786\"],[0.5555555555555556,\"#d8576b\"],[0.6666666666666666,\"#ed7953\"],[0.7777777777777778,\"#fb9f3a\"],[0.8888888888888888,\"#fdca26\"],[1.0,\"#f0f921\"]],\"type\":\"contour\"}],\"contourcarpet\":[{\"colorbar\":{\"outlinewidth\":0,\"ticks\":\"\"},\"type\":\"contourcarpet\"}],\"heatmap\":[{\"colorbar\":{\"outlinewidth\":0,\"ticks\":\"\"},\"colorscale\":[[0.0,\"#0d0887\"],[0.1111111111111111,\"#46039f\"],[0.2222222222222222,\"#7201a8\"],[0.3333333333333333,\"#9c179e\"],[0.4444444444444444,\"#bd3786\"],[0.5555555555555556,\"#d8576b\"],[0.6666666666666666,\"#ed7953\"],[0.7777777777777778,\"#fb9f3a\"],[0.8888888888888888,\"#fdca26\"],[1.0,\"#f0f921\"]],\"type\":\"heatmap\"}],\"heatmapgl\":[{\"colorbar\":{\"outlinewidth\":0,\"ticks\":\"\"},\"colorscale\":[[0.0,\"#0d0887\"],[0.1111111111111111,\"#46039f\"],[0.2222222222222222,\"#7201a8\"],[0.3333333333333333,\"#9c179e\"],[0.4444444444444444,\"#bd3786\"],[0.5555555555555556,\"#d8576b\"],[0.6666666666666666,\"#ed7953\"],[0.7777777777777778,\"#fb9f3a\"],[0.8888888888888888,\"#fdca26\"],[1.0,\"#f0f921\"]],\"type\":\"heatmapgl\"}],\"histogram\":[{\"marker\":{\"pattern\":{\"fillmode\":\"overlay\",\"size\":10,\"solidity\":0.2}},\"type\":\"histogram\"}],\"histogram2d\":[{\"colorbar\":{\"outlinewidth\":0,\"ticks\":\"\"},\"colorscale\":[[0.0,\"#0d0887\"],[0.1111111111111111,\"#46039f\"],[0.2222222222222222,\"#7201a8\"],[0.3333333333333333,\"#9c179e\"],[0.4444444444444444,\"#bd3786\"],[0.5555555555555556,\"#d8576b\"],[0.6666666666666666,\"#ed7953\"],[0.7777777777777778,\"#fb9f3a\"],[0.8888888888888888,\"#fdca26\"],[1.0,\"#f0f921\"]],\"type\":\"histogram2d\"}],\"histogram2dcontour\":[{\"colorbar\":{\"outlinewidth\":0,\"ticks\":\"\"},\"colorscale\":[[0.0,\"#0d0887\"],[0.1111111111111111,\"#46039f\"],[0.2222222222222222,\"#7201a8\"],[0.3333333333333333,\"#9c179e\"],[0.4444444444444444,\"#bd3786\"],[0.5555555555555556,\"#d8576b\"],[0.6666666666666666,\"#ed7953\"],[0.7777777777777778,\"#fb9f3a\"],[0.8888888888888888,\"#fdca26\"],[1.0,\"#f0f921\"]],\"type\":\"histogram2dcontour\"}],\"mesh3d\":[{\"colorbar\":{\"outlinewidth\":0,\"ticks\":\"\"},\"type\":\"mesh3d\"}],\"parcoords\":[{\"line\":{\"colorbar\":{\"outlinewidth\":0,\"ticks\":\"\"}},\"type\":\"parcoords\"}],\"pie\":[{\"automargin\":true,\"type\":\"pie\"}],\"scatter\":[{\"marker\":{\"colorbar\":{\"outlinewidth\":0,\"ticks\":\"\"}},\"type\":\"scatter\"}],\"scatter3d\":[{\"line\":{\"colorbar\":{\"outlinewidth\":0,\"ticks\":\"\"}},\"marker\":{\"colorbar\":{\"outlinewidth\":0,\"ticks\":\"\"}},\"type\":\"scatter3d\"}],\"scattercarpet\":[{\"marker\":{\"colorbar\":{\"outlinewidth\":0,\"ticks\":\"\"}},\"type\":\"scattercarpet\"}],\"scattergeo\":[{\"marker\":{\"colorbar\":{\"outlinewidth\":0,\"ticks\":\"\"}},\"type\":\"scattergeo\"}],\"scattergl\":[{\"marker\":{\"colorbar\":{\"outlinewidth\":0,\"ticks\":\"\"}},\"type\":\"scattergl\"}],\"scattermapbox\":[{\"marker\":{\"colorbar\":{\"outlinewidth\":0,\"ticks\":\"\"}},\"type\":\"scattermapbox\"}],\"scatterpolar\":[{\"marker\":{\"colorbar\":{\"outlinewidth\":0,\"ticks\":\"\"}},\"type\":\"scatterpolar\"}],\"scatterpolargl\":[{\"marker\":{\"colorbar\":{\"outlinewidth\":0,\"ticks\":\"\"}},\"type\":\"scatterpolargl\"}],\"scatterternary\":[{\"marker\":{\"colorbar\":{\"outlinewidth\":0,\"ticks\":\"\"}},\"type\":\"scatterternary\"}],\"surface\":[{\"colorbar\":{\"outlinewidth\":0,\"ticks\":\"\"},\"colorscale\":[[0.0,\"#0d0887\"],[0.1111111111111111,\"#46039f\"],[0.2222222222222222,\"#7201a8\"],[0.3333333333333333,\"#9c179e\"],[0.4444444444444444,\"#bd3786\"],[0.5555555555555556,\"#d8576b\"],[0.6666666666666666,\"#ed7953\"],[0.7777777777777778,\"#fb9f3a\"],[0.8888888888888888,\"#fdca26\"],[1.0,\"#f0f921\"]],\"type\":\"surface\"}],\"table\":[{\"cells\":{\"fill\":{\"color\":\"#EBF0F8\"},\"line\":{\"color\":\"white\"}},\"header\":{\"fill\":{\"color\":\"#C8D4E3\"},\"line\":{\"color\":\"white\"}},\"type\":\"table\"}]},\"layout\":{\"annotationdefaults\":{\"arrowcolor\":\"#2a3f5f\",\"arrowhead\":0,\"arrowwidth\":1},\"autotypenumbers\":\"strict\",\"coloraxis\":{\"colorbar\":{\"outlinewidth\":0,\"ticks\":\"\"}},\"colorscale\":{\"diverging\":[[0,\"#8e0152\"],[0.1,\"#c51b7d\"],[0.2,\"#de77ae\"],[0.3,\"#f1b6da\"],[0.4,\"#fde0ef\"],[0.5,\"#f7f7f7\"],[0.6,\"#e6f5d0\"],[0.7,\"#b8e186\"],[0.8,\"#7fbc41\"],[0.9,\"#4d9221\"],[1,\"#276419\"]],\"sequential\":[[0.0,\"#0d0887\"],[0.1111111111111111,\"#46039f\"],[0.2222222222222222,\"#7201a8\"],[0.3333333333333333,\"#9c179e\"],[0.4444444444444444,\"#bd3786\"],[0.5555555555555556,\"#d8576b\"],[0.6666666666666666,\"#ed7953\"],[0.7777777777777778,\"#fb9f3a\"],[0.8888888888888888,\"#fdca26\"],[1.0,\"#f0f921\"]],\"sequentialminus\":[[0.0,\"#0d0887\"],[0.1111111111111111,\"#46039f\"],[0.2222222222222222,\"#7201a8\"],[0.3333333333333333,\"#9c179e\"],[0.4444444444444444,\"#bd3786\"],[0.5555555555555556,\"#d8576b\"],[0.6666666666666666,\"#ed7953\"],[0.7777777777777778,\"#fb9f3a\"],[0.8888888888888888,\"#fdca26\"],[1.0,\"#f0f921\"]]},\"colorway\":[\"#636efa\",\"#EF553B\",\"#00cc96\",\"#ab63fa\",\"#FFA15A\",\"#19d3f3\",\"#FF6692\",\"#B6E880\",\"#FF97FF\",\"#FECB52\"],\"font\":{\"color\":\"#2a3f5f\"},\"geo\":{\"bgcolor\":\"white\",\"lakecolor\":\"white\",\"landcolor\":\"#E5ECF6\",\"showlakes\":true,\"showland\":true,\"subunitcolor\":\"white\"},\"hoverlabel\":{\"align\":\"left\"},\"hovermode\":\"closest\",\"mapbox\":{\"style\":\"light\"},\"paper_bgcolor\":\"white\",\"plot_bgcolor\":\"#E5ECF6\",\"polar\":{\"angularaxis\":{\"gridcolor\":\"white\",\"linecolor\":\"white\",\"ticks\":\"\"},\"bgcolor\":\"#E5ECF6\",\"radialaxis\":{\"gridcolor\":\"white\",\"linecolor\":\"white\",\"ticks\":\"\"}},\"scene\":{\"xaxis\":{\"backgroundcolor\":\"#E5ECF6\",\"gridcolor\":\"white\",\"gridwidth\":2,\"linecolor\":\"white\",\"showbackground\":true,\"ticks\":\"\",\"zerolinecolor\":\"white\"},\"yaxis\":{\"backgroundcolor\":\"#E5ECF6\",\"gridcolor\":\"white\",\"gridwidth\":2,\"linecolor\":\"white\",\"showbackground\":true,\"ticks\":\"\",\"zerolinecolor\":\"white\"},\"zaxis\":{\"backgroundcolor\":\"#E5ECF6\",\"gridcolor\":\"white\",\"gridwidth\":2,\"linecolor\":\"white\",\"showbackground\":true,\"ticks\":\"\",\"zerolinecolor\":\"white\"}},\"shapedefaults\":{\"line\":{\"color\":\"#2a3f5f\"}},\"ternary\":{\"aaxis\":{\"gridcolor\":\"white\",\"linecolor\":\"white\",\"ticks\":\"\"},\"baxis\":{\"gridcolor\":\"white\",\"linecolor\":\"white\",\"ticks\":\"\"},\"bgcolor\":\"#E5ECF6\",\"caxis\":{\"gridcolor\":\"white\",\"linecolor\":\"white\",\"ticks\":\"\"}},\"title\":{\"x\":0.05},\"xaxis\":{\"automargin\":true,\"gridcolor\":\"white\",\"linecolor\":\"white\",\"ticks\":\"\",\"title\":{\"standoff\":15},\"zerolinecolor\":\"white\",\"zerolinewidth\":2},\"yaxis\":{\"automargin\":true,\"gridcolor\":\"white\",\"linecolor\":\"white\",\"ticks\":\"\",\"title\":{\"standoff\":15},\"zerolinecolor\":\"white\",\"zerolinewidth\":2}}},\"xaxis\":{\"anchor\":\"y\",\"domain\":[0.0,1.0],\"title\":{\"text\":\"Job\"},\"categoryorder\":\"array\",\"categoryarray\":[\"admin.\",\"blue-collar\",\"technician\",\"services\",\"management\",\"retired\",\"entrepreneur\",\"self-employed\",\"housemaid\",\"unemployed\",\"student\",\"unknown\"]},\"yaxis\":{\"anchor\":\"x\",\"domain\":[0.0,1.0],\"title\":{\"text\":\"Count\"}},\"legend\":{\"title\":{\"text\":\"Job\"},\"tracegroupgap\":0},\"margin\":{\"t\":60},\"barmode\":\"relative\",\"title\":{\"x\":0.5,\"text\":\"<b>Job types of the clients\"}},                        {\"responsive\": true}                    ).then(function(){\n",
              "                            \n",
              "var gd = document.getElementById('e6cbd45f-4efb-4350-9f2f-56b36a683a60');\n",
              "var x = new MutationObserver(function (mutations, observer) {{\n",
              "        var display = window.getComputedStyle(gd).display;\n",
              "        if (!display || display === 'none') {{\n",
              "            console.log([gd, 'removed!']);\n",
              "            Plotly.purge(gd);\n",
              "            observer.disconnect();\n",
              "        }}\n",
              "}});\n",
              "\n",
              "// Listen for the removal of the full notebook cells\n",
              "var notebookContainer = gd.closest('#notebook-container');\n",
              "if (notebookContainer) {{\n",
              "    x.observe(notebookContainer, {childList: true});\n",
              "}}\n",
              "\n",
              "// Listen for the clearing of the current output cell\n",
              "var outputEl = gd.closest('.output');\n",
              "if (outputEl) {{\n",
              "    x.observe(outputEl, {childList: true});\n",
              "}}\n",
              "\n",
              "                        })                };                            </script>        </div>\n",
              "</body>\n",
              "</html>"
            ]
          },
          "metadata": {}
        }
      ]
    },
    {
      "cell_type": "markdown",
      "source": [
        "**Insights**\n",
        "1. Clients with admin as job type are maximum in the bank and the least are unknown job type clients.\n",
        "2. Blue-collar job clients take the second place from the top."
      ],
      "metadata": {
        "id": "7xL-AvPsP2bC"
      }
    },
    {
      "cell_type": "code",
      "source": [
        "a=data.groupby(['Month','y'],as_index=False)['Age'].count().rename(columns={'Age':'Count'})\n",
        "a['percent']=round(a['Count']*100/a.groupby('Month')['Count'].transform('sum'),1)\n",
        "a['percent']=a['percent'].apply(lambda x: '{}%'.format(x))\n",
        "fig=px.bar(a,x='Month',y='Count',text='percent',color='y',barmode='group',color_discrete_sequence=['brown','tomato'])\n",
        "fig.update_layout(title_x=0.5,showlegend=True,legend_title_text=\"Deposit\",title_text='<b style=\"color:black; font-size:100%;\">Deposits(y) based on last Contact month')\n",
        "fig.update_traces(marker=dict(line=dict(color='#00FFFF', width=1)),textposition = \"outside\")\n",
        "fig.show()"
      ],
      "metadata": {
        "id": "5nU3n-sWS3ZY",
        "colab": {
          "base_uri": "https://localhost:8080/",
          "height": 542
        },
        "outputId": "4de05e80-d3a1-496a-ee10-18d7955570c9"
      },
      "execution_count": null,
      "outputs": [
        {
          "output_type": "display_data",
          "data": {
            "text/html": [
              "<html>\n",
              "<head><meta charset=\"utf-8\" /></head>\n",
              "<body>\n",
              "    <div>            <script src=\"https://cdnjs.cloudflare.com/ajax/libs/mathjax/2.7.5/MathJax.js?config=TeX-AMS-MML_SVG\"></script><script type=\"text/javascript\">if (window.MathJax) {MathJax.Hub.Config({SVG: {font: \"STIX-Web\"}});}</script>                <script type=\"text/javascript\">window.PlotlyConfig = {MathJaxConfig: 'local'};</script>\n",
              "        <script src=\"https://cdn.plot.ly/plotly-2.8.3.min.js\"></script>                <div id=\"2da3010b-2cd5-4db8-9e92-204795645cb2\" class=\"plotly-graph-div\" style=\"height:525px; width:100%;\"></div>            <script type=\"text/javascript\">                                    window.PLOTLYENV=window.PLOTLYENV || {};                                    if (document.getElementById(\"2da3010b-2cd5-4db8-9e92-204795645cb2\")) {                    Plotly.newPlot(                        \"2da3010b-2cd5-4db8-9e92-204795645cb2\",                        [{\"alignmentgroup\":\"True\",\"hovertemplate\":\"y=no<br>Month=%{x}<br>Count=%{y}<br>percent=%{text}<extra></extra>\",\"legendgroup\":\"no\",\"marker\":{\"color\":\"brown\",\"pattern\":{\"shape\":\"\"},\"line\":{\"color\":\"#00FFFF\",\"width\":1}},\"name\":\"no\",\"offsetgroup\":\"no\",\"orientation\":\"v\",\"showlegend\":true,\"text\":[\"79.5%\",\"89.4%\",\"51.1%\",\"91.0%\",\"89.5%\",\"49.5%\",\"93.6%\",\"89.9%\",\"56.1%\",\"55.1%\"],\"textposition\":\"outside\",\"x\":[\"apr\",\"aug\",\"dec\",\"jul\",\"jun\",\"mar\",\"may\",\"nov\",\"oct\",\"sep\"],\"xaxis\":\"x\",\"y\":[2093,5523,93,6525,4759,270,12883,3685,403,314],\"yaxis\":\"y\",\"type\":\"bar\"},{\"alignmentgroup\":\"True\",\"hovertemplate\":\"y=yes<br>Month=%{x}<br>Count=%{y}<br>percent=%{text}<extra></extra>\",\"legendgroup\":\"yes\",\"marker\":{\"color\":\"tomato\",\"pattern\":{\"shape\":\"\"},\"line\":{\"color\":\"#00FFFF\",\"width\":1}},\"name\":\"yes\",\"offsetgroup\":\"yes\",\"orientation\":\"v\",\"showlegend\":true,\"text\":[\"20.5%\",\"10.6%\",\"48.9%\",\"9.0%\",\"10.5%\",\"50.5%\",\"6.4%\",\"10.1%\",\"43.9%\",\"44.9%\"],\"textposition\":\"outside\",\"x\":[\"apr\",\"aug\",\"dec\",\"jul\",\"jun\",\"mar\",\"may\",\"nov\",\"oct\",\"sep\"],\"xaxis\":\"x\",\"y\":[539,655,89,649,559,276,886,416,315,256],\"yaxis\":\"y\",\"type\":\"bar\"}],                        {\"template\":{\"data\":{\"bar\":[{\"error_x\":{\"color\":\"#2a3f5f\"},\"error_y\":{\"color\":\"#2a3f5f\"},\"marker\":{\"line\":{\"color\":\"#E5ECF6\",\"width\":0.5},\"pattern\":{\"fillmode\":\"overlay\",\"size\":10,\"solidity\":0.2}},\"type\":\"bar\"}],\"barpolar\":[{\"marker\":{\"line\":{\"color\":\"#E5ECF6\",\"width\":0.5},\"pattern\":{\"fillmode\":\"overlay\",\"size\":10,\"solidity\":0.2}},\"type\":\"barpolar\"}],\"carpet\":[{\"aaxis\":{\"endlinecolor\":\"#2a3f5f\",\"gridcolor\":\"white\",\"linecolor\":\"white\",\"minorgridcolor\":\"white\",\"startlinecolor\":\"#2a3f5f\"},\"baxis\":{\"endlinecolor\":\"#2a3f5f\",\"gridcolor\":\"white\",\"linecolor\":\"white\",\"minorgridcolor\":\"white\",\"startlinecolor\":\"#2a3f5f\"},\"type\":\"carpet\"}],\"choropleth\":[{\"colorbar\":{\"outlinewidth\":0,\"ticks\":\"\"},\"type\":\"choropleth\"}],\"contour\":[{\"colorbar\":{\"outlinewidth\":0,\"ticks\":\"\"},\"colorscale\":[[0.0,\"#0d0887\"],[0.1111111111111111,\"#46039f\"],[0.2222222222222222,\"#7201a8\"],[0.3333333333333333,\"#9c179e\"],[0.4444444444444444,\"#bd3786\"],[0.5555555555555556,\"#d8576b\"],[0.6666666666666666,\"#ed7953\"],[0.7777777777777778,\"#fb9f3a\"],[0.8888888888888888,\"#fdca26\"],[1.0,\"#f0f921\"]],\"type\":\"contour\"}],\"contourcarpet\":[{\"colorbar\":{\"outlinewidth\":0,\"ticks\":\"\"},\"type\":\"contourcarpet\"}],\"heatmap\":[{\"colorbar\":{\"outlinewidth\":0,\"ticks\":\"\"},\"colorscale\":[[0.0,\"#0d0887\"],[0.1111111111111111,\"#46039f\"],[0.2222222222222222,\"#7201a8\"],[0.3333333333333333,\"#9c179e\"],[0.4444444444444444,\"#bd3786\"],[0.5555555555555556,\"#d8576b\"],[0.6666666666666666,\"#ed7953\"],[0.7777777777777778,\"#fb9f3a\"],[0.8888888888888888,\"#fdca26\"],[1.0,\"#f0f921\"]],\"type\":\"heatmap\"}],\"heatmapgl\":[{\"colorbar\":{\"outlinewidth\":0,\"ticks\":\"\"},\"colorscale\":[[0.0,\"#0d0887\"],[0.1111111111111111,\"#46039f\"],[0.2222222222222222,\"#7201a8\"],[0.3333333333333333,\"#9c179e\"],[0.4444444444444444,\"#bd3786\"],[0.5555555555555556,\"#d8576b\"],[0.6666666666666666,\"#ed7953\"],[0.7777777777777778,\"#fb9f3a\"],[0.8888888888888888,\"#fdca26\"],[1.0,\"#f0f921\"]],\"type\":\"heatmapgl\"}],\"histogram\":[{\"marker\":{\"pattern\":{\"fillmode\":\"overlay\",\"size\":10,\"solidity\":0.2}},\"type\":\"histogram\"}],\"histogram2d\":[{\"colorbar\":{\"outlinewidth\":0,\"ticks\":\"\"},\"colorscale\":[[0.0,\"#0d0887\"],[0.1111111111111111,\"#46039f\"],[0.2222222222222222,\"#7201a8\"],[0.3333333333333333,\"#9c179e\"],[0.4444444444444444,\"#bd3786\"],[0.5555555555555556,\"#d8576b\"],[0.6666666666666666,\"#ed7953\"],[0.7777777777777778,\"#fb9f3a\"],[0.8888888888888888,\"#fdca26\"],[1.0,\"#f0f921\"]],\"type\":\"histogram2d\"}],\"histogram2dcontour\":[{\"colorbar\":{\"outlinewidth\":0,\"ticks\":\"\"},\"colorscale\":[[0.0,\"#0d0887\"],[0.1111111111111111,\"#46039f\"],[0.2222222222222222,\"#7201a8\"],[0.3333333333333333,\"#9c179e\"],[0.4444444444444444,\"#bd3786\"],[0.5555555555555556,\"#d8576b\"],[0.6666666666666666,\"#ed7953\"],[0.7777777777777778,\"#fb9f3a\"],[0.8888888888888888,\"#fdca26\"],[1.0,\"#f0f921\"]],\"type\":\"histogram2dcontour\"}],\"mesh3d\":[{\"colorbar\":{\"outlinewidth\":0,\"ticks\":\"\"},\"type\":\"mesh3d\"}],\"parcoords\":[{\"line\":{\"colorbar\":{\"outlinewidth\":0,\"ticks\":\"\"}},\"type\":\"parcoords\"}],\"pie\":[{\"automargin\":true,\"type\":\"pie\"}],\"scatter\":[{\"marker\":{\"colorbar\":{\"outlinewidth\":0,\"ticks\":\"\"}},\"type\":\"scatter\"}],\"scatter3d\":[{\"line\":{\"colorbar\":{\"outlinewidth\":0,\"ticks\":\"\"}},\"marker\":{\"colorbar\":{\"outlinewidth\":0,\"ticks\":\"\"}},\"type\":\"scatter3d\"}],\"scattercarpet\":[{\"marker\":{\"colorbar\":{\"outlinewidth\":0,\"ticks\":\"\"}},\"type\":\"scattercarpet\"}],\"scattergeo\":[{\"marker\":{\"colorbar\":{\"outlinewidth\":0,\"ticks\":\"\"}},\"type\":\"scattergeo\"}],\"scattergl\":[{\"marker\":{\"colorbar\":{\"outlinewidth\":0,\"ticks\":\"\"}},\"type\":\"scattergl\"}],\"scattermapbox\":[{\"marker\":{\"colorbar\":{\"outlinewidth\":0,\"ticks\":\"\"}},\"type\":\"scattermapbox\"}],\"scatterpolar\":[{\"marker\":{\"colorbar\":{\"outlinewidth\":0,\"ticks\":\"\"}},\"type\":\"scatterpolar\"}],\"scatterpolargl\":[{\"marker\":{\"colorbar\":{\"outlinewidth\":0,\"ticks\":\"\"}},\"type\":\"scatterpolargl\"}],\"scatterternary\":[{\"marker\":{\"colorbar\":{\"outlinewidth\":0,\"ticks\":\"\"}},\"type\":\"scatterternary\"}],\"surface\":[{\"colorbar\":{\"outlinewidth\":0,\"ticks\":\"\"},\"colorscale\":[[0.0,\"#0d0887\"],[0.1111111111111111,\"#46039f\"],[0.2222222222222222,\"#7201a8\"],[0.3333333333333333,\"#9c179e\"],[0.4444444444444444,\"#bd3786\"],[0.5555555555555556,\"#d8576b\"],[0.6666666666666666,\"#ed7953\"],[0.7777777777777778,\"#fb9f3a\"],[0.8888888888888888,\"#fdca26\"],[1.0,\"#f0f921\"]],\"type\":\"surface\"}],\"table\":[{\"cells\":{\"fill\":{\"color\":\"#EBF0F8\"},\"line\":{\"color\":\"white\"}},\"header\":{\"fill\":{\"color\":\"#C8D4E3\"},\"line\":{\"color\":\"white\"}},\"type\":\"table\"}]},\"layout\":{\"annotationdefaults\":{\"arrowcolor\":\"#2a3f5f\",\"arrowhead\":0,\"arrowwidth\":1},\"autotypenumbers\":\"strict\",\"coloraxis\":{\"colorbar\":{\"outlinewidth\":0,\"ticks\":\"\"}},\"colorscale\":{\"diverging\":[[0,\"#8e0152\"],[0.1,\"#c51b7d\"],[0.2,\"#de77ae\"],[0.3,\"#f1b6da\"],[0.4,\"#fde0ef\"],[0.5,\"#f7f7f7\"],[0.6,\"#e6f5d0\"],[0.7,\"#b8e186\"],[0.8,\"#7fbc41\"],[0.9,\"#4d9221\"],[1,\"#276419\"]],\"sequential\":[[0.0,\"#0d0887\"],[0.1111111111111111,\"#46039f\"],[0.2222222222222222,\"#7201a8\"],[0.3333333333333333,\"#9c179e\"],[0.4444444444444444,\"#bd3786\"],[0.5555555555555556,\"#d8576b\"],[0.6666666666666666,\"#ed7953\"],[0.7777777777777778,\"#fb9f3a\"],[0.8888888888888888,\"#fdca26\"],[1.0,\"#f0f921\"]],\"sequentialminus\":[[0.0,\"#0d0887\"],[0.1111111111111111,\"#46039f\"],[0.2222222222222222,\"#7201a8\"],[0.3333333333333333,\"#9c179e\"],[0.4444444444444444,\"#bd3786\"],[0.5555555555555556,\"#d8576b\"],[0.6666666666666666,\"#ed7953\"],[0.7777777777777778,\"#fb9f3a\"],[0.8888888888888888,\"#fdca26\"],[1.0,\"#f0f921\"]]},\"colorway\":[\"#636efa\",\"#EF553B\",\"#00cc96\",\"#ab63fa\",\"#FFA15A\",\"#19d3f3\",\"#FF6692\",\"#B6E880\",\"#FF97FF\",\"#FECB52\"],\"font\":{\"color\":\"#2a3f5f\"},\"geo\":{\"bgcolor\":\"white\",\"lakecolor\":\"white\",\"landcolor\":\"#E5ECF6\",\"showlakes\":true,\"showland\":true,\"subunitcolor\":\"white\"},\"hoverlabel\":{\"align\":\"left\"},\"hovermode\":\"closest\",\"mapbox\":{\"style\":\"light\"},\"paper_bgcolor\":\"white\",\"plot_bgcolor\":\"#E5ECF6\",\"polar\":{\"angularaxis\":{\"gridcolor\":\"white\",\"linecolor\":\"white\",\"ticks\":\"\"},\"bgcolor\":\"#E5ECF6\",\"radialaxis\":{\"gridcolor\":\"white\",\"linecolor\":\"white\",\"ticks\":\"\"}},\"scene\":{\"xaxis\":{\"backgroundcolor\":\"#E5ECF6\",\"gridcolor\":\"white\",\"gridwidth\":2,\"linecolor\":\"white\",\"showbackground\":true,\"ticks\":\"\",\"zerolinecolor\":\"white\"},\"yaxis\":{\"backgroundcolor\":\"#E5ECF6\",\"gridcolor\":\"white\",\"gridwidth\":2,\"linecolor\":\"white\",\"showbackground\":true,\"ticks\":\"\",\"zerolinecolor\":\"white\"},\"zaxis\":{\"backgroundcolor\":\"#E5ECF6\",\"gridcolor\":\"white\",\"gridwidth\":2,\"linecolor\":\"white\",\"showbackground\":true,\"ticks\":\"\",\"zerolinecolor\":\"white\"}},\"shapedefaults\":{\"line\":{\"color\":\"#2a3f5f\"}},\"ternary\":{\"aaxis\":{\"gridcolor\":\"white\",\"linecolor\":\"white\",\"ticks\":\"\"},\"baxis\":{\"gridcolor\":\"white\",\"linecolor\":\"white\",\"ticks\":\"\"},\"bgcolor\":\"#E5ECF6\",\"caxis\":{\"gridcolor\":\"white\",\"linecolor\":\"white\",\"ticks\":\"\"}},\"title\":{\"x\":0.05},\"xaxis\":{\"automargin\":true,\"gridcolor\":\"white\",\"linecolor\":\"white\",\"ticks\":\"\",\"title\":{\"standoff\":15},\"zerolinecolor\":\"white\",\"zerolinewidth\":2},\"yaxis\":{\"automargin\":true,\"gridcolor\":\"white\",\"linecolor\":\"white\",\"ticks\":\"\",\"title\":{\"standoff\":15},\"zerolinecolor\":\"white\",\"zerolinewidth\":2}}},\"xaxis\":{\"anchor\":\"y\",\"domain\":[0.0,1.0],\"title\":{\"text\":\"Month\"}},\"yaxis\":{\"anchor\":\"x\",\"domain\":[0.0,1.0],\"title\":{\"text\":\"Count\"}},\"legend\":{\"title\":{\"text\":\"Deposit\"},\"tracegroupgap\":0},\"margin\":{\"t\":60},\"barmode\":\"group\",\"title\":{\"x\":0.5,\"text\":\"<b style=\\\"color:black; font-size:100%;\\\">Deposits(y) based on last Contact month\"},\"showlegend\":true},                        {\"responsive\": true}                    ).then(function(){\n",
              "                            \n",
              "var gd = document.getElementById('2da3010b-2cd5-4db8-9e92-204795645cb2');\n",
              "var x = new MutationObserver(function (mutations, observer) {{\n",
              "        var display = window.getComputedStyle(gd).display;\n",
              "        if (!display || display === 'none') {{\n",
              "            console.log([gd, 'removed!']);\n",
              "            Plotly.purge(gd);\n",
              "            observer.disconnect();\n",
              "        }}\n",
              "}});\n",
              "\n",
              "// Listen for the removal of the full notebook cells\n",
              "var notebookContainer = gd.closest('#notebook-container');\n",
              "if (notebookContainer) {{\n",
              "    x.observe(notebookContainer, {childList: true});\n",
              "}}\n",
              "\n",
              "// Listen for the clearing of the current output cell\n",
              "var outputEl = gd.closest('.output');\n",
              "if (outputEl) {{\n",
              "    x.observe(outputEl, {childList: true});\n",
              "}}\n",
              "\n",
              "                        })                };                            </script>        </div>\n",
              "</body>\n",
              "</html>"
            ]
          },
          "metadata": {}
        }
      ]
    },
    {
      "cell_type": "markdown",
      "source": [
        "Insights:\n",
        "\n",
        "1.May, June, July and August seemingly had more clients contacted but the outcome was miserable as they did not subsribe to the term deposit during those months.\n",
        "\n",
        "2. March, September, October and Dec had less clients contacted but more people got converted comparatively. Therefore, banks can target these months to contact more to get more subscriptions."
      ],
      "metadata": {
        "id": "7UeZVb-Q4OaJ"
      }
    },
    {
      "cell_type": "code",
      "source": [
        "fig=px.line(data.groupby(['campaign','y'],as_index=False)['Age'].count().rename(columns={'Age':'Count'}),x='campaign',y='Count',color='y',color_discrete_sequence=['red','dimgray'])\n",
        "fig.update_layout(title_x=0.5,legend_title_text=\"<b>Term Deposit\",title_text='<b style=\"font-family: Times New Roman; font-size:1.3vw\">Effect of Campaign on Term Deposits<b><br><b style=\"font-family: Times New Roman; font-size:1vw\">number of contacts performed during the campaign and for this client </b>')\n",
        "fig.show()"
      ],
      "metadata": {
        "id": "oNjR9UMOwI-V",
        "colab": {
          "base_uri": "https://localhost:8080/",
          "height": 542
        },
        "outputId": "bf2c408d-48f8-4fe0-a449-052d340c32bf"
      },
      "execution_count": null,
      "outputs": [
        {
          "output_type": "display_data",
          "data": {
            "text/html": [
              "<html>\n",
              "<head><meta charset=\"utf-8\" /></head>\n",
              "<body>\n",
              "    <div>            <script src=\"https://cdnjs.cloudflare.com/ajax/libs/mathjax/2.7.5/MathJax.js?config=TeX-AMS-MML_SVG\"></script><script type=\"text/javascript\">if (window.MathJax) {MathJax.Hub.Config({SVG: {font: \"STIX-Web\"}});}</script>                <script type=\"text/javascript\">window.PlotlyConfig = {MathJaxConfig: 'local'};</script>\n",
              "        <script src=\"https://cdn.plot.ly/plotly-2.8.3.min.js\"></script>                <div id=\"daa79fa9-b779-4027-8f10-5849db1e32c8\" class=\"plotly-graph-div\" style=\"height:525px; width:100%;\"></div>            <script type=\"text/javascript\">                                    window.PLOTLYENV=window.PLOTLYENV || {};                                    if (document.getElementById(\"daa79fa9-b779-4027-8f10-5849db1e32c8\")) {                    Plotly.newPlot(                        \"daa79fa9-b779-4027-8f10-5849db1e32c8\",                        [{\"hovertemplate\":\"y=no<br>campaign=%{x}<br>Count=%{y}<extra></extra>\",\"legendgroup\":\"no\",\"line\":{\"color\":\"red\",\"dash\":\"solid\"},\"marker\":{\"symbol\":\"circle\"},\"mode\":\"lines\",\"name\":\"no\",\"orientation\":\"v\",\"showlegend\":true,\"x\":[1,2,3,4,5,6,7,8,9,10,11,12,13,14,15,16,17,18,19,20,21,22,23,24,25,26,27,28,29,30,31,32,33,34,35,37,39,40,41,42,43,56],\"xaxis\":\"x\",\"y\":[15342,9359,4767,2402,1479,904,591,383,266,213,165,122,88,68,49,51,54,33,26,30,24,17,15,15,8,8,11,8,10,7,7,4,4,3,5,1,1,2,1,2,2,1],\"yaxis\":\"y\",\"type\":\"scatter\"},{\"hovertemplate\":\"y=yes<br>campaign=%{x}<br>Count=%{y}<extra></extra>\",\"legendgroup\":\"yes\",\"line\":{\"color\":\"dimgray\",\"dash\":\"solid\"},\"marker\":{\"symbol\":\"circle\"},\"mode\":\"lines\",\"name\":\"yes\",\"orientation\":\"v\",\"showlegend\":true,\"x\":[1,2,3,4,5,6,7,8,9,10,11,12,13,14,15,17,23],\"xaxis\":\"x\",\"y\":[2300,1211,574,249,120,75,38,17,17,12,12,3,4,1,2,4,1],\"yaxis\":\"y\",\"type\":\"scatter\"}],                        {\"template\":{\"data\":{\"bar\":[{\"error_x\":{\"color\":\"#2a3f5f\"},\"error_y\":{\"color\":\"#2a3f5f\"},\"marker\":{\"line\":{\"color\":\"#E5ECF6\",\"width\":0.5},\"pattern\":{\"fillmode\":\"overlay\",\"size\":10,\"solidity\":0.2}},\"type\":\"bar\"}],\"barpolar\":[{\"marker\":{\"line\":{\"color\":\"#E5ECF6\",\"width\":0.5},\"pattern\":{\"fillmode\":\"overlay\",\"size\":10,\"solidity\":0.2}},\"type\":\"barpolar\"}],\"carpet\":[{\"aaxis\":{\"endlinecolor\":\"#2a3f5f\",\"gridcolor\":\"white\",\"linecolor\":\"white\",\"minorgridcolor\":\"white\",\"startlinecolor\":\"#2a3f5f\"},\"baxis\":{\"endlinecolor\":\"#2a3f5f\",\"gridcolor\":\"white\",\"linecolor\":\"white\",\"minorgridcolor\":\"white\",\"startlinecolor\":\"#2a3f5f\"},\"type\":\"carpet\"}],\"choropleth\":[{\"colorbar\":{\"outlinewidth\":0,\"ticks\":\"\"},\"type\":\"choropleth\"}],\"contour\":[{\"colorbar\":{\"outlinewidth\":0,\"ticks\":\"\"},\"colorscale\":[[0.0,\"#0d0887\"],[0.1111111111111111,\"#46039f\"],[0.2222222222222222,\"#7201a8\"],[0.3333333333333333,\"#9c179e\"],[0.4444444444444444,\"#bd3786\"],[0.5555555555555556,\"#d8576b\"],[0.6666666666666666,\"#ed7953\"],[0.7777777777777778,\"#fb9f3a\"],[0.8888888888888888,\"#fdca26\"],[1.0,\"#f0f921\"]],\"type\":\"contour\"}],\"contourcarpet\":[{\"colorbar\":{\"outlinewidth\":0,\"ticks\":\"\"},\"type\":\"contourcarpet\"}],\"heatmap\":[{\"colorbar\":{\"outlinewidth\":0,\"ticks\":\"\"},\"colorscale\":[[0.0,\"#0d0887\"],[0.1111111111111111,\"#46039f\"],[0.2222222222222222,\"#7201a8\"],[0.3333333333333333,\"#9c179e\"],[0.4444444444444444,\"#bd3786\"],[0.5555555555555556,\"#d8576b\"],[0.6666666666666666,\"#ed7953\"],[0.7777777777777778,\"#fb9f3a\"],[0.8888888888888888,\"#fdca26\"],[1.0,\"#f0f921\"]],\"type\":\"heatmap\"}],\"heatmapgl\":[{\"colorbar\":{\"outlinewidth\":0,\"ticks\":\"\"},\"colorscale\":[[0.0,\"#0d0887\"],[0.1111111111111111,\"#46039f\"],[0.2222222222222222,\"#7201a8\"],[0.3333333333333333,\"#9c179e\"],[0.4444444444444444,\"#bd3786\"],[0.5555555555555556,\"#d8576b\"],[0.6666666666666666,\"#ed7953\"],[0.7777777777777778,\"#fb9f3a\"],[0.8888888888888888,\"#fdca26\"],[1.0,\"#f0f921\"]],\"type\":\"heatmapgl\"}],\"histogram\":[{\"marker\":{\"pattern\":{\"fillmode\":\"overlay\",\"size\":10,\"solidity\":0.2}},\"type\":\"histogram\"}],\"histogram2d\":[{\"colorbar\":{\"outlinewidth\":0,\"ticks\":\"\"},\"colorscale\":[[0.0,\"#0d0887\"],[0.1111111111111111,\"#46039f\"],[0.2222222222222222,\"#7201a8\"],[0.3333333333333333,\"#9c179e\"],[0.4444444444444444,\"#bd3786\"],[0.5555555555555556,\"#d8576b\"],[0.6666666666666666,\"#ed7953\"],[0.7777777777777778,\"#fb9f3a\"],[0.8888888888888888,\"#fdca26\"],[1.0,\"#f0f921\"]],\"type\":\"histogram2d\"}],\"histogram2dcontour\":[{\"colorbar\":{\"outlinewidth\":0,\"ticks\":\"\"},\"colorscale\":[[0.0,\"#0d0887\"],[0.1111111111111111,\"#46039f\"],[0.2222222222222222,\"#7201a8\"],[0.3333333333333333,\"#9c179e\"],[0.4444444444444444,\"#bd3786\"],[0.5555555555555556,\"#d8576b\"],[0.6666666666666666,\"#ed7953\"],[0.7777777777777778,\"#fb9f3a\"],[0.8888888888888888,\"#fdca26\"],[1.0,\"#f0f921\"]],\"type\":\"histogram2dcontour\"}],\"mesh3d\":[{\"colorbar\":{\"outlinewidth\":0,\"ticks\":\"\"},\"type\":\"mesh3d\"}],\"parcoords\":[{\"line\":{\"colorbar\":{\"outlinewidth\":0,\"ticks\":\"\"}},\"type\":\"parcoords\"}],\"pie\":[{\"automargin\":true,\"type\":\"pie\"}],\"scatter\":[{\"marker\":{\"colorbar\":{\"outlinewidth\":0,\"ticks\":\"\"}},\"type\":\"scatter\"}],\"scatter3d\":[{\"line\":{\"colorbar\":{\"outlinewidth\":0,\"ticks\":\"\"}},\"marker\":{\"colorbar\":{\"outlinewidth\":0,\"ticks\":\"\"}},\"type\":\"scatter3d\"}],\"scattercarpet\":[{\"marker\":{\"colorbar\":{\"outlinewidth\":0,\"ticks\":\"\"}},\"type\":\"scattercarpet\"}],\"scattergeo\":[{\"marker\":{\"colorbar\":{\"outlinewidth\":0,\"ticks\":\"\"}},\"type\":\"scattergeo\"}],\"scattergl\":[{\"marker\":{\"colorbar\":{\"outlinewidth\":0,\"ticks\":\"\"}},\"type\":\"scattergl\"}],\"scattermapbox\":[{\"marker\":{\"colorbar\":{\"outlinewidth\":0,\"ticks\":\"\"}},\"type\":\"scattermapbox\"}],\"scatterpolar\":[{\"marker\":{\"colorbar\":{\"outlinewidth\":0,\"ticks\":\"\"}},\"type\":\"scatterpolar\"}],\"scatterpolargl\":[{\"marker\":{\"colorbar\":{\"outlinewidth\":0,\"ticks\":\"\"}},\"type\":\"scatterpolargl\"}],\"scatterternary\":[{\"marker\":{\"colorbar\":{\"outlinewidth\":0,\"ticks\":\"\"}},\"type\":\"scatterternary\"}],\"surface\":[{\"colorbar\":{\"outlinewidth\":0,\"ticks\":\"\"},\"colorscale\":[[0.0,\"#0d0887\"],[0.1111111111111111,\"#46039f\"],[0.2222222222222222,\"#7201a8\"],[0.3333333333333333,\"#9c179e\"],[0.4444444444444444,\"#bd3786\"],[0.5555555555555556,\"#d8576b\"],[0.6666666666666666,\"#ed7953\"],[0.7777777777777778,\"#fb9f3a\"],[0.8888888888888888,\"#fdca26\"],[1.0,\"#f0f921\"]],\"type\":\"surface\"}],\"table\":[{\"cells\":{\"fill\":{\"color\":\"#EBF0F8\"},\"line\":{\"color\":\"white\"}},\"header\":{\"fill\":{\"color\":\"#C8D4E3\"},\"line\":{\"color\":\"white\"}},\"type\":\"table\"}]},\"layout\":{\"annotationdefaults\":{\"arrowcolor\":\"#2a3f5f\",\"arrowhead\":0,\"arrowwidth\":1},\"autotypenumbers\":\"strict\",\"coloraxis\":{\"colorbar\":{\"outlinewidth\":0,\"ticks\":\"\"}},\"colorscale\":{\"diverging\":[[0,\"#8e0152\"],[0.1,\"#c51b7d\"],[0.2,\"#de77ae\"],[0.3,\"#f1b6da\"],[0.4,\"#fde0ef\"],[0.5,\"#f7f7f7\"],[0.6,\"#e6f5d0\"],[0.7,\"#b8e186\"],[0.8,\"#7fbc41\"],[0.9,\"#4d9221\"],[1,\"#276419\"]],\"sequential\":[[0.0,\"#0d0887\"],[0.1111111111111111,\"#46039f\"],[0.2222222222222222,\"#7201a8\"],[0.3333333333333333,\"#9c179e\"],[0.4444444444444444,\"#bd3786\"],[0.5555555555555556,\"#d8576b\"],[0.6666666666666666,\"#ed7953\"],[0.7777777777777778,\"#fb9f3a\"],[0.8888888888888888,\"#fdca26\"],[1.0,\"#f0f921\"]],\"sequentialminus\":[[0.0,\"#0d0887\"],[0.1111111111111111,\"#46039f\"],[0.2222222222222222,\"#7201a8\"],[0.3333333333333333,\"#9c179e\"],[0.4444444444444444,\"#bd3786\"],[0.5555555555555556,\"#d8576b\"],[0.6666666666666666,\"#ed7953\"],[0.7777777777777778,\"#fb9f3a\"],[0.8888888888888888,\"#fdca26\"],[1.0,\"#f0f921\"]]},\"colorway\":[\"#636efa\",\"#EF553B\",\"#00cc96\",\"#ab63fa\",\"#FFA15A\",\"#19d3f3\",\"#FF6692\",\"#B6E880\",\"#FF97FF\",\"#FECB52\"],\"font\":{\"color\":\"#2a3f5f\"},\"geo\":{\"bgcolor\":\"white\",\"lakecolor\":\"white\",\"landcolor\":\"#E5ECF6\",\"showlakes\":true,\"showland\":true,\"subunitcolor\":\"white\"},\"hoverlabel\":{\"align\":\"left\"},\"hovermode\":\"closest\",\"mapbox\":{\"style\":\"light\"},\"paper_bgcolor\":\"white\",\"plot_bgcolor\":\"#E5ECF6\",\"polar\":{\"angularaxis\":{\"gridcolor\":\"white\",\"linecolor\":\"white\",\"ticks\":\"\"},\"bgcolor\":\"#E5ECF6\",\"radialaxis\":{\"gridcolor\":\"white\",\"linecolor\":\"white\",\"ticks\":\"\"}},\"scene\":{\"xaxis\":{\"backgroundcolor\":\"#E5ECF6\",\"gridcolor\":\"white\",\"gridwidth\":2,\"linecolor\":\"white\",\"showbackground\":true,\"ticks\":\"\",\"zerolinecolor\":\"white\"},\"yaxis\":{\"backgroundcolor\":\"#E5ECF6\",\"gridcolor\":\"white\",\"gridwidth\":2,\"linecolor\":\"white\",\"showbackground\":true,\"ticks\":\"\",\"zerolinecolor\":\"white\"},\"zaxis\":{\"backgroundcolor\":\"#E5ECF6\",\"gridcolor\":\"white\",\"gridwidth\":2,\"linecolor\":\"white\",\"showbackground\":true,\"ticks\":\"\",\"zerolinecolor\":\"white\"}},\"shapedefaults\":{\"line\":{\"color\":\"#2a3f5f\"}},\"ternary\":{\"aaxis\":{\"gridcolor\":\"white\",\"linecolor\":\"white\",\"ticks\":\"\"},\"baxis\":{\"gridcolor\":\"white\",\"linecolor\":\"white\",\"ticks\":\"\"},\"bgcolor\":\"#E5ECF6\",\"caxis\":{\"gridcolor\":\"white\",\"linecolor\":\"white\",\"ticks\":\"\"}},\"title\":{\"x\":0.05},\"xaxis\":{\"automargin\":true,\"gridcolor\":\"white\",\"linecolor\":\"white\",\"ticks\":\"\",\"title\":{\"standoff\":15},\"zerolinecolor\":\"white\",\"zerolinewidth\":2},\"yaxis\":{\"automargin\":true,\"gridcolor\":\"white\",\"linecolor\":\"white\",\"ticks\":\"\",\"title\":{\"standoff\":15},\"zerolinecolor\":\"white\",\"zerolinewidth\":2}}},\"xaxis\":{\"anchor\":\"y\",\"domain\":[0.0,1.0],\"title\":{\"text\":\"campaign\"}},\"yaxis\":{\"anchor\":\"x\",\"domain\":[0.0,1.0],\"title\":{\"text\":\"Count\"}},\"legend\":{\"title\":{\"text\":\"<b>Term Deposit\"},\"tracegroupgap\":0},\"margin\":{\"t\":60},\"title\":{\"x\":0.5,\"text\":\"<b style=\\\"font-family: Times New Roman; font-size:1.3vw\\\">Effect of Campaign on Term Deposits<b><br><b style=\\\"font-family: Times New Roman; font-size:1vw\\\">number of contacts performed during the campaign and for this client </b>\"}},                        {\"responsive\": true}                    ).then(function(){\n",
              "                            \n",
              "var gd = document.getElementById('daa79fa9-b779-4027-8f10-5849db1e32c8');\n",
              "var x = new MutationObserver(function (mutations, observer) {{\n",
              "        var display = window.getComputedStyle(gd).display;\n",
              "        if (!display || display === 'none') {{\n",
              "            console.log([gd, 'removed!']);\n",
              "            Plotly.purge(gd);\n",
              "            observer.disconnect();\n",
              "        }}\n",
              "}});\n",
              "\n",
              "// Listen for the removal of the full notebook cells\n",
              "var notebookContainer = gd.closest('#notebook-container');\n",
              "if (notebookContainer) {{\n",
              "    x.observe(notebookContainer, {childList: true});\n",
              "}}\n",
              "\n",
              "// Listen for the clearing of the current output cell\n",
              "var outputEl = gd.closest('.output');\n",
              "if (outputEl) {{\n",
              "    x.observe(outputEl, {childList: true});\n",
              "}}\n",
              "\n",
              "                        })                };                            </script>        </div>\n",
              "</body>\n",
              "</html>"
            ]
          },
          "metadata": {}
        }
      ]
    },
    {
      "cell_type": "markdown",
      "source": [
        "Insights:\n",
        "\n",
        "1. The lesser the contacts performed for the clients the more they tend to subscribe.\n",
        "\n",
        "2. The more the contacts performed for the clients the less they tend to subscribe."
      ],
      "metadata": {
        "id": "ORgpICPvKrJ6"
      }
    },
    {
      "cell_type": "markdown",
      "source": [
        "Bivariate Analysis -\n",
        "\n",
        "Bivariate analysis involves checking the relationship between two variables."
      ],
      "metadata": {
        "id": "dXlXH35lVCwf"
      }
    },
    {
      "cell_type": "code",
      "source": [
        "plt.figure(figsize=(20,4))\n",
        "plt.subplot(121)\n",
        "sns.countplot(x=data[\"Marital\"],hue=data['y'],data=data)\n",
        "plt.title(\"Marital vs y\")\n",
        "plt.xticks(rotation=0)"
      ],
      "metadata": {
        "colab": {
          "base_uri": "https://localhost:8080/",
          "height": 380
        },
        "id": "hCrxLy1YTCGz",
        "outputId": "1b2f7700-c6a6-4197-d738-4682c19ea3d5"
      },
      "execution_count": null,
      "outputs": [
        {
          "output_type": "execute_result",
          "data": {
            "text/plain": [
              "(array([0, 1, 2, 3]),\n",
              " [Text(0, 0, 'married'),\n",
              "  Text(1, 0, 'single'),\n",
              "  Text(2, 0, 'divorced'),\n",
              "  Text(3, 0, 'unknown')])"
            ]
          },
          "metadata": {},
          "execution_count": 72
        },
        {
          "output_type": "display_data",
          "data": {
            "text/plain": [
              "<Figure size 1440x288 with 1 Axes>"
            ],
            "image/png": "[encoded data removed]"
          },
          "metadata": {
            "needs_background": "light"
          }
        }
      ]
    },
    {
      "cell_type": "markdown",
      "source": [
        "Insights: Most of the married people have declined the subscription followed by Singles and divorced.\n",
        "\n",
        "That said, Out of all people who have subscribed, married people have the highest subscriptions followed by other two.\n",
        "\n",
        "Note: Please perform bivaritae analysis on other columns too"
      ],
      "metadata": {
        "id": "oYm-mLmkWVLJ"
      }
    },
    {
      "cell_type": "markdown",
      "source": [
        "Feature Engineering - It is the process of transforming the features that better represent the underlying problem to predictive models, resulting in improved model accuracy on unseen data.\n",
        "\n",
        "It includes feature creation, Feature scaling,feature extraction and feature selection."
      ],
      "metadata": {
        "id": "QvuAoNTukTqJ"
      }
    },
    {
      "cell_type": "code",
      "source": [
        "# label encoding for the categorical variable\n",
        "from sklearn.preprocessing import LabelEncoder\n",
        "\n",
        "for col in [\"Job\",\"Marital\", \"Education\", \"Default\", \"day_of_week\",\"Month\",\"poutcome\",\"Contact\",\"housing\",\"Loan\",\"y\"]:\n",
        "    data[col] = LabelEncoder().fit_transform(data[col])"
      ],
      "metadata": {
        "id": "jvx1Z5qgBR91"
      },
      "execution_count": null,
      "outputs": []
    },
    {
      "cell_type": "code",
      "source": [
        "data.head(5)"
      ],
      "metadata": {
        "id": "Cnbt3k22EvjM",
        "colab": {
          "base_uri": "https://localhost:8080/",
          "height": 297
        },
        "outputId": "7c1e63c2-d523-4f60-81fc-715dd3f4556d"
      },
      "execution_count": null,
      "outputs": [
        {
          "output_type": "execute_result",
          "data": {
            "text/plain": [
              "   Age  Job  Marital  Education  Default  housing  Loan  Contact  Month  \\\n",
              "0   56    3        1          0        0        0     0        1      6   \n",
              "1   57    7        1          3        1        0     0        1      6   \n",
              "2   37    7        1          3        0        2     0        1      6   \n",
              "3   40    0        1          1        0        0     0        1      6   \n",
              "4   56    7        1          3        0        0     2        1      6   \n",
              "\n",
              "   day_of_week  ...  campaign  pdays  previous  poutcome  empvarrate  \\\n",
              "0            1  ...         1    999         0         1         1.1   \n",
              "1            1  ...         1    999         0         1         1.1   \n",
              "2            1  ...         1    999         0         1         1.1   \n",
              "3            1  ...         1    999         0         1         1.1   \n",
              "4            1  ...         1    999         0         1         1.1   \n",
              "\n",
              "   conspriceidx  consconfidx  euribor3m  nremployed  y  \n",
              "0        93.994        -36.4      4.857      5191.0  0  \n",
              "1        93.994        -36.4      4.857      5191.0  0  \n",
              "2        93.994        -36.4      4.857      5191.0  0  \n",
              "3        93.994        -36.4      4.857      5191.0  0  \n",
              "4        93.994        -36.4      4.857      5191.0  0  \n",
              "\n",
              "[5 rows x 21 columns]"
            ],
            "text/html": [
              "\n",
              "  <div id=\"df-2ec422a5-f564-4c9d-954e-4e1f73b0f439\">\n",
              "    <div class=\"colab-df-container\">\n",
              "      <div>\n",
              "<style scoped>\n",
              "    .dataframe tbody tr th:only-of-type {\n",
              "        vertical-align: middle;\n",
              "    }\n",
              "\n",
              "    .dataframe tbody tr th {\n",
              "        vertical-align: top;\n",
              "    }\n",
              "\n",
              "    .dataframe thead th {\n",
              "        text-align: right;\n",
              "    }\n",
              "</style>\n",
              "<table border=\"1\" class=\"dataframe\">\n",
              "  <thead>\n",
              "    <tr style=\"text-align: right;\">\n",
              "      <th></th>\n",
              "      <th>Age</th>\n",
              "      <th>Job</th>\n",
              "      <th>Marital</th>\n",
              "      <th>Education</th>\n",
              "      <th>Default</th>\n",
              "      <th>housing</th>\n",
              "      <th>Loan</th>\n",
              "      <th>Contact</th>\n",
              "      <th>Month</th>\n",
              "      <th>day_of_week</th>\n",
              "      <th>...</th>\n",
              "      <th>campaign</th>\n",
              "      <th>pdays</th>\n",
              "      <th>previous</th>\n",
              "      <th>poutcome</th>\n",
              "      <th>empvarrate</th>\n",
              "      <th>conspriceidx</th>\n",
              "      <th>consconfidx</th>\n",
              "      <th>euribor3m</th>\n",
              "      <th>nremployed</th>\n",
              "      <th>y</th>\n",
              "    </tr>\n",
              "  </thead>\n",
              "  <tbody>\n",
              "    <tr>\n",
              "      <th>0</th>\n",
              "      <td>56</td>\n",
              "      <td>3</td>\n",
              "      <td>1</td>\n",
              "      <td>0</td>\n",
              "      <td>0</td>\n",
              "      <td>0</td>\n",
              "      <td>0</td>\n",
              "      <td>1</td>\n",
              "      <td>6</td>\n",
              "      <td>1</td>\n",
              "      <td>...</td>\n",
              "      <td>1</td>\n",
              "      <td>999</td>\n",
              "      <td>0</td>\n",
              "      <td>1</td>\n",
              "      <td>1.1</td>\n",
              "      <td>93.994</td>\n",
              "      <td>-36.4</td>\n",
              "      <td>4.857</td>\n",
              "      <td>5191.0</td>\n",
              "      <td>0</td>\n",
              "    </tr>\n",
              "    <tr>\n",
              "      <th>1</th>\n",
              "      <td>57</td>\n",
              "      <td>7</td>\n",
              "      <td>1</td>\n",
              "      <td>3</td>\n",
              "      <td>1</td>\n",
              "      <td>0</td>\n",
              "      <td>0</td>\n",
              "      <td>1</td>\n",
              "      <td>6</td>\n",
              "      <td>1</td>\n",
              "      <td>...</td>\n",
              "      <td>1</td>\n",
              "      <td>999</td>\n",
              "      <td>0</td>\n",
              "      <td>1</td>\n",
              "      <td>1.1</td>\n",
              "      <td>93.994</td>\n",
              "      <td>-36.4</td>\n",
              "      <td>4.857</td>\n",
              "      <td>5191.0</td>\n",
              "      <td>0</td>\n",
              "    </tr>\n",
              "    <tr>\n",
              "      <th>2</th>\n",
              "      <td>37</td>\n",
              "      <td>7</td>\n",
              "      <td>1</td>\n",
              "      <td>3</td>\n",
              "      <td>0</td>\n",
              "      <td>2</td>\n",
              "      <td>0</td>\n",
              "      <td>1</td>\n",
              "      <td>6</td>\n",
              "      <td>1</td>\n",
              "      <td>...</td>\n",
              "      <td>1</td>\n",
              "      <td>999</td>\n",
              "      <td>0</td>\n",
              "      <td>1</td>\n",
              "      <td>1.1</td>\n",
              "      <td>93.994</td>\n",
              "      <td>-36.4</td>\n",
              "      <td>4.857</td>\n",
              "      <td>5191.0</td>\n",
              "      <td>0</td>\n",
              "    </tr>\n",
              "    <tr>\n",
              "      <th>3</th>\n",
              "      <td>40</td>\n",
              "      <td>0</td>\n",
              "      <td>1</td>\n",
              "      <td>1</td>\n",
              "      <td>0</td>\n",
              "      <td>0</td>\n",
              "      <td>0</td>\n",
              "      <td>1</td>\n",
              "      <td>6</td>\n",
              "      <td>1</td>\n",
              "      <td>...</td>\n",
              "      <td>1</td>\n",
              "      <td>999</td>\n",
              "      <td>0</td>\n",
              "      <td>1</td>\n",
              "      <td>1.1</td>\n",
              "      <td>93.994</td>\n",
              "      <td>-36.4</td>\n",
              "      <td>4.857</td>\n",
              "      <td>5191.0</td>\n",
              "      <td>0</td>\n",
              "    </tr>\n",
              "    <tr>\n",
              "      <th>4</th>\n",
              "      <td>56</td>\n",
              "      <td>7</td>\n",
              "      <td>1</td>\n",
              "      <td>3</td>\n",
              "      <td>0</td>\n",
              "      <td>0</td>\n",
              "      <td>2</td>\n",
              "      <td>1</td>\n",
              "      <td>6</td>\n",
              "      <td>1</td>\n",
              "      <td>...</td>\n",
              "      <td>1</td>\n",
              "      <td>999</td>\n",
              "      <td>0</td>\n",
              "      <td>1</td>\n",
              "      <td>1.1</td>\n",
              "      <td>93.994</td>\n",
              "      <td>-36.4</td>\n",
              "      <td>4.857</td>\n",
              "      <td>5191.0</td>\n",
              "      <td>0</td>\n",
              "    </tr>\n",
              "  </tbody>\n",
              "</table>\n",
              "<p>5 rows × 21 columns</p>\n",
              "</div>\n",
              "      <button class=\"colab-df-convert\" onclick=\"convertToInteractive('df-2ec422a5-f564-4c9d-954e-4e1f73b0f439')\"\n",
              "              title=\"Convert this dataframe to an interactive table.\"\n",
              "              style=\"display:none;\">\n",
              "        \n",
              "  <svg xmlns=\"http://www.w3.org/2000/svg\" height=\"24px\"viewBox=\"0 0 24 24\"\n",
              "       width=\"24px\">\n",
              "    <path d=\"M0 0h24v24H0V0z\" fill=\"none\"/>\n",
              "    <path d=\"M18.56 5.44l.94 2.06.94-2.06 2.06-.94-2.06-.94-.94-2.06-.94 2.06-2.06.94zm-11 1L8.5 8.5l.94-2.06 2.06-.94-2.06-.94L8.5 2.5l-.94 2.06-2.06.94zm10 10l.94 2.06.94-2.06 2.06-.94-2.06-.94-.94-2.06-.94 2.06-2.06.94z\"/><path d=\"M17.41 7.96l-1.37-1.37c-.4-.4-.92-.59-1.43-.59-.52 0-1.04.2-1.43.59L10.3 9.45l-7.72 7.72c-.78.78-.78 2.05 0 2.83L4 21.41c.39.39.9.59 1.41.59.51 0 1.02-.2 1.41-.59l7.78-7.78 2.81-2.81c.8-.78.8-2.07 0-2.86zM5.41 20L4 18.59l7.72-7.72 1.47 1.35L5.41 20z\"/>\n",
              "  </svg>\n",
              "      </button>\n",
              "      \n",
              "  <style>\n",
              "    .colab-df-container {\n",
              "      display:flex;\n",
              "      flex-wrap:wrap;\n",
              "      gap: 12px;\n",
              "    }\n",
              "\n",
              "    .colab-df-convert {\n",
              "      background-color: #E8F0FE;\n",
              "      border: none;\n",
              "      border-radius: 50%;\n",
              "      cursor: pointer;\n",
              "      display: none;\n",
              "      fill: #1967D2;\n",
              "      height: 32px;\n",
              "      padding: 0 0 0 0;\n",
              "      width: 32px;\n",
              "    }\n",
              "\n",
              "    .colab-df-convert:hover {\n",
              "      background-color: #E2EBFA;\n",
              "      box-shadow: 0px 1px 2px rgba(60, 64, 67, 0.3), 0px 1px 3px 1px rgba(60, 64, 67, 0.15);\n",
              "      fill: #174EA6;\n",
              "    }\n",
              "\n",
              "    [theme=dark] .colab-df-convert {\n",
              "      background-color: #3B4455;\n",
              "      fill: #D2E3FC;\n",
              "    }\n",
              "\n",
              "    [theme=dark] .colab-df-convert:hover {\n",
              "      background-color: #434B5C;\n",
              "      box-shadow: 0px 1px 3px 1px rgba(0, 0, 0, 0.15);\n",
              "      filter: drop-shadow(0px 1px 2px rgba(0, 0, 0, 0.3));\n",
              "      fill: #FFFFFF;\n",
              "    }\n",
              "  </style>\n",
              "\n",
              "      <script>\n",
              "        const buttonEl =\n",
              "          document.querySelector('#df-2ec422a5-f564-4c9d-954e-4e1f73b0f439 button.colab-df-convert');\n",
              "        buttonEl.style.display =\n",
              "          google.colab.kernel.accessAllowed ? 'block' : 'none';\n",
              "\n",
              "        async function convertToInteractive(key) {\n",
              "          const element = document.querySelector('#df-2ec422a5-f564-4c9d-954e-4e1f73b0f439');\n",
              "          const dataTable =\n",
              "            await google.colab.kernel.invokeFunction('convertToInteractive',\n",
              "                                                     [key], {});\n",
              "          if (!dataTable) return;\n",
              "\n",
              "          const docLinkHtml = 'Like what you see? Visit the ' +\n",
              "            '<a target=\"_blank\" href=https://colab.research.google.com/notebooks/data_table.ipynb>data table notebook</a>'\n",
              "            + ' to learn more about interactive tables.';\n",
              "          element.innerHTML = '';\n",
              "          dataTable['output_type'] = 'display_data';\n",
              "          await google.colab.output.renderOutput(dataTable, element);\n",
              "          const docLink = document.createElement('div');\n",
              "          docLink.innerHTML = docLinkHtml;\n",
              "          element.appendChild(docLink);\n",
              "        }\n",
              "      </script>\n",
              "    </div>\n",
              "  </div>\n",
              "  "
            ]
          },
          "metadata": {},
          "execution_count": 90
        }
      ]
    },
    {
      "cell_type": "code",
      "source": [
        "# Examine multicollinearity using VIF\n",
        "from statsmodels.stats.outliers_influence import variance_inflation_factor\n",
        "\n",
        "\n",
        "# VIF dataframe\n",
        "vif_data = pd.DataFrame()\n",
        "vif_data[\"feature\"] = data.columns\n",
        "\n",
        "# calculating VIF for each feature\n",
        "vif_data[\"VIF\"] = [variance_inflation_factor(data.values, i)\n",
        "                          for i in range(len(data.columns))]\n",
        "\n",
        "print(vif_data)"
      ],
      "metadata": {
        "colab": {
          "base_uri": "https://localhost:8080/",
          "height": 391
        },
        "id": "wLge52KIoXJR",
        "outputId": "e6133467-d085-41d6-f549-1909f9b70a35"
      },
      "execution_count": null,
      "outputs": [
        {
          "output_type": "display_data",
          "data": {
            "text/plain": [
              "<IPython.core.display.Javascript object>"
            ],
            "application/javascript": [
              "\n",
              "        if (window._pyforest_update_imports_cell) { window._pyforest_update_imports_cell('from sklearn.linear_model import LogisticRegression\\nfrom sklearn.linear_model import Lasso\\nfrom sklearn.linear_model import LassoCV\\nimport plotly.express as px\\nfrom sklearn.preprocessing import PolynomialFeatures\\nimport xgboost as xgb\\nfrom sklearn.ensemble import GradientBoostingRegressor\\nimport pandas as pd\\nfrom sklearn.linear_model import ElasticNet\\nfrom sklearn.ensemble import GradientBoostingClassifier\\nfrom sklearn.model_selection import KFold\\nfrom sklearn.feature_extraction.text import CountVectorizer\\nfrom sklearn.model_selection import GridSearchCV\\nfrom sklearn.preprocessing import MinMaxScaler\\nimport plotly as py\\nimport pickle\\nfrom sklearn.linear_model import LinearRegression\\nfrom sklearn.preprocessing import OneHotEncoder\\nfrom pathlib import Path\\nfrom sklearn.linear_model import ElasticNetCV\\nimport pydot\\nfrom PIL import Image\\nfrom sklearn.decomposition import PCA\\nfrom sklearn.model_selection import train_test_split\\nfrom sklearn import svm\\nfrom statsmodels.tsa.arima_model import ARIMA\\nfrom sklearn.cluster import KMeans\\nfrom sklearn.ensemble import RandomForestClassifier\\nimport altair as alt'); }\n",
              "    "
            ]
          },
          "metadata": {}
        },
        {
          "output_type": "stream",
          "name": "stdout",
          "text": [
            "         feature           VIF\n",
            "0            Age     19.748825\n",
            "1            Job      2.120196\n",
            "2        Marital      5.655898\n",
            "3      Education      4.466418\n",
            "4        Default      1.405036\n",
            "5        housing      2.205621\n",
            "6           Loan      1.207807\n",
            "7        Contact      2.867721\n",
            "8          Month      6.844007\n",
            "9    day_of_week      3.086377\n",
            "10      duration      2.451693\n",
            "11      campaign      1.930696\n",
            "12         pdays    166.369670\n",
            "13      previous      5.964609\n",
            "14      poutcome     34.178782\n",
            "15    empvarrate     40.727910\n",
            "16  conspriceidx  38881.736440\n",
            "17   consconfidx    131.859364\n",
            "18     euribor3m    333.532385\n",
            "19    nremployed  44301.582935\n",
            "20             y      1.714507\n"
          ]
        }
      ]
    },
    {
      "cell_type": "code",
      "source": [
        "#split data\n",
        "# Also I am dropping the columns based on the results I have gotten from VIF. anything above 5 is excluded from the dataset\n",
        "X=data.drop([\"nremployed\",\"euribor3m\",\"conspriceidx\",\"consconfidx\",\"pdays\",\"Age\",\"poutcome\",\"empvarrate\",\"y\"], axis=1)\n",
        "y = data['y']\n",
        "X_train, X_test, y_train, y_test = train_test_split(X, y, test_size = 0.3, random_state = 42)\n",
        "print(X_train.shape)\n",
        "print(y_train.shape)\n",
        "print(X_test.shape)\n",
        "print(y_test.shape)\n",
        "#X.columns"
      ],
      "metadata": {
        "id": "WSLWTNsvFcP4",
        "colab": {
          "base_uri": "https://localhost:8080/",
          "height": 85
        },
        "outputId": "87c85f50-2358-453f-c9d9-9c211686040a"
      },
      "execution_count": null,
      "outputs": [
        {
          "output_type": "display_data",
          "data": {
            "text/plain": [
              "<IPython.core.display.Javascript object>"
            ],
            "application/javascript": [
              "\n",
              "        if (window._pyforest_update_imports_cell) { window._pyforest_update_imports_cell('from sklearn.linear_model import LogisticRegression\\nfrom sklearn.linear_model import Lasso\\nfrom sklearn.linear_model import LassoCV\\nimport plotly.express as px\\nfrom sklearn.preprocessing import PolynomialFeatures\\nimport xgboost as xgb\\nfrom sklearn.ensemble import GradientBoostingRegressor\\nimport pandas as pd\\nfrom sklearn.linear_model import ElasticNet\\nfrom sklearn.ensemble import GradientBoostingClassifier\\nfrom sklearn.model_selection import KFold\\nfrom sklearn.feature_extraction.text import CountVectorizer\\nfrom sklearn.model_selection import GridSearchCV\\nfrom sklearn.preprocessing import MinMaxScaler\\nimport plotly as py\\nimport pickle\\nfrom sklearn.linear_model import LinearRegression\\nfrom sklearn.preprocessing import OneHotEncoder\\nfrom pathlib import Path\\nfrom sklearn.linear_model import ElasticNetCV\\nimport pydot\\nfrom PIL import Image\\nfrom sklearn.decomposition import PCA\\nfrom sklearn.model_selection import train_test_split\\nfrom sklearn import svm\\nfrom statsmodels.tsa.arima_model import ARIMA\\nfrom sklearn.cluster import KMeans\\nfrom sklearn.ensemble import RandomForestClassifier\\nimport altair as alt'); }\n",
              "    "
            ]
          },
          "metadata": {}
        },
        {
          "output_type": "stream",
          "name": "stdout",
          "text": [
            "(28831, 12)\n",
            "(28831,)\n",
            "(12357, 12)\n",
            "(12357,)\n"
          ]
        }
      ]
    },
    {
      "cell_type": "code",
      "source": [
        "X.columns"
      ],
      "metadata": {
        "colab": {
          "base_uri": "https://localhost:8080/"
        },
        "id": "BXrHbPfMmaat",
        "outputId": "9edf40b5-f8ec-4125-e6fb-52e3a4c69495"
      },
      "execution_count": null,
      "outputs": [
        {
          "output_type": "execute_result",
          "data": {
            "text/plain": [
              "Index(['Job', 'Marital', 'Education', 'Default', 'housing', 'Loan', 'Contact',\n",
              "       'Month', 'day_of_week', 'duration', 'campaign', 'previous'],\n",
              "      dtype='object')"
            ]
          },
          "metadata": {},
          "execution_count": 93
        }
      ]
    },
    {
      "cell_type": "markdown",
      "source": [
        "# Feature Scaling"
      ],
      "metadata": {
        "id": "Me2Yp4-skqKq"
      }
    },
    {
      "cell_type": "code",
      "source": [
        "# performing transformation of data\n",
        "from sklearn.preprocessing import StandardScaler\n",
        "sc = StandardScaler()\n",
        "X_train=sc.fit_transform(X_train)\n",
        "X_train"
      ],
      "metadata": {
        "colab": {
          "base_uri": "https://localhost:8080/"
        },
        "id": "4t6v_CU_aa0A",
        "outputId": "8eb715e0-e014-434a-c3a9-9133d5c8d26b"
      },
      "execution_count": null,
      "outputs": [
        {
          "output_type": "execute_result",
          "data": {
            "text/plain": [
              "array([[-1.03362777, -0.28835206,  1.05155724, ..., -0.69511644,\n",
              "         0.15413935,  1.67379958],\n",
              "       [ 1.47115571,  1.3510639 ,  1.05155724, ..., -0.94491621,\n",
              "         0.51747772, -0.34914386],\n",
              "       [-0.7553185 , -0.28835206, -1.28865478, ...,  0.07349826,\n",
              "        -0.20919902, -0.34914386],\n",
              "       ...,\n",
              "       [-1.03362777, -0.28835206, -0.35256997, ..., -0.24547684,\n",
              "        -0.57253738,  1.67379958],\n",
              "       [ 0.07960933, -0.28835206,  1.05155724, ...,  0.14267359,\n",
              "        -0.20919902, -0.34914386],\n",
              "       [-1.03362777,  1.3510639 ,  1.05155724, ...,  0.28871038,\n",
              "        -0.20919902, -0.34914386]])"
            ]
          },
          "metadata": {},
          "execution_count": 94
        }
      ]
    },
    {
      "cell_type": "code",
      "source": [
        "X_test=sc.transform(X_test)\n",
        "X_test"
      ],
      "metadata": {
        "colab": {
          "base_uri": "https://localhost:8080/"
        },
        "id": "QOZ057auanMT",
        "outputId": "a20d9ea6-9402-4ebb-82cd-a55ef850e255"
      },
      "execution_count": null,
      "outputs": [
        {
          "output_type": "execute_result",
          "data": {
            "text/plain": [
              "array([[ 1.47115571, -0.28835206, -0.35256997, ...,  0.43474717,\n",
              "        -0.57253738,  1.67379958],\n",
              "       [ 2.02777426, -0.28835206,  1.51959964, ...,  0.10424285,\n",
              "        -0.20919902, -0.34914386],\n",
              "       [-0.7553185 , -0.28835206, -0.82061238, ..., -0.79119327,\n",
              "        -0.57253738,  1.67379958],\n",
              "       ...,\n",
              "       [-0.7553185 ,  1.3510639 , -0.35256997, ..., -0.02642165,\n",
              "        -0.20919902, -0.34914386],\n",
              "       [ 1.47115571, -1.92776803,  0.58351483, ..., -0.79887942,\n",
              "         0.15413935, -0.34914386],\n",
              "       [ 1.47115571, -0.28835206,  1.05155724, ..., -0.14171385,\n",
              "        -0.20919902,  1.67379958]])"
            ]
          },
          "metadata": {},
          "execution_count": 95
        }
      ]
    },
    {
      "cell_type": "markdown",
      "source": [
        "The default VIF cutoff value is 5; only variables with a VIF less than 5 will be included in the model. However, note that many sources say that a VIF of less than 10 is acceptable."
      ],
      "metadata": {
        "id": "5tSeSkHmIMYL"
      }
    },
    {
      "cell_type": "code",
      "source": [
        "# Examine multicollinearity using VIF\n",
        "from statsmodels.stats.outliers_influence import variance_inflation_factor\n",
        "\n",
        "\n",
        "# VIF dataframe\n",
        "vif_data = pd.DataFrame()\n",
        "vif_data[\"feature\"] = X.columns\n",
        "\n",
        "# calculating VIF for each feature\n",
        "vif_data[\"VIF\"] = [variance_inflation_factor(X.values, i)\n",
        "                          for i in range(len(X.columns))]\n",
        "\n",
        "print(vif_data)"
      ],
      "metadata": {
        "id": "ErtAYu3nGBS-",
        "colab": {
          "base_uri": "https://localhost:8080/",
          "height": 238
        },
        "outputId": "21c27393-00d6-4662-f23f-dd9dd9be1cda"
      },
      "execution_count": null,
      "outputs": [
        {
          "output_type": "display_data",
          "data": {
            "text/plain": [
              "<IPython.core.display.Javascript object>"
            ],
            "application/javascript": [
              "\n",
              "        if (window._pyforest_update_imports_cell) { window._pyforest_update_imports_cell('from sklearn.linear_model import LogisticRegression\\nfrom sklearn.linear_model import Lasso\\nfrom sklearn.linear_model import LassoCV\\nimport plotly.express as px\\nfrom sklearn.preprocessing import PolynomialFeatures\\nimport xgboost as xgb\\nfrom sklearn.ensemble import GradientBoostingRegressor\\nimport pandas as pd\\nfrom sklearn.linear_model import ElasticNet\\nfrom sklearn.ensemble import GradientBoostingClassifier\\nfrom sklearn.model_selection import KFold\\nfrom sklearn.feature_extraction.text import CountVectorizer\\nfrom sklearn.model_selection import GridSearchCV\\nfrom sklearn.preprocessing import MinMaxScaler\\nimport plotly as py\\nimport pickle\\nfrom sklearn.linear_model import LinearRegression\\nfrom sklearn.preprocessing import OneHotEncoder\\nfrom pathlib import Path\\nfrom sklearn.linear_model import ElasticNetCV\\nimport pydot\\nfrom PIL import Image\\nfrom sklearn.decomposition import PCA\\nfrom sklearn.model_selection import train_test_split\\nfrom sklearn import svm\\nfrom statsmodels.tsa.arima_model import ARIMA\\nfrom sklearn.cluster import KMeans\\nfrom sklearn.ensemble import RandomForestClassifier\\nimport altair as alt'); }\n",
              "    "
            ]
          },
          "metadata": {}
        },
        {
          "output_type": "stream",
          "name": "stdout",
          "text": [
            "        feature       VIF\n",
            "0           Job  2.034305\n",
            "1       Marital  3.985834\n",
            "2     Education  3.632271\n",
            "3       Default  1.273387\n",
            "4       housing  2.057358\n",
            "5          Loan  1.196315\n",
            "6       Contact  1.860439\n",
            "7         Month  4.044558\n",
            "8   day_of_week  2.725738\n",
            "9      duration  1.880603\n",
            "10     campaign  1.768809\n",
            "11     previous  1.217547\n"
          ]
        }
      ]
    },
    {
      "cell_type": "code",
      "source": [
        "data[\"y\"].value_counts()"
      ],
      "metadata": {
        "id": "McJsWFGzPNVU",
        "colab": {
          "base_uri": "https://localhost:8080/"
        },
        "outputId": "0587c7ca-a594-47c2-ec07-2f9436106c95"
      },
      "execution_count": null,
      "outputs": [
        {
          "output_type": "execute_result",
          "data": {
            "text/plain": [
              "0    36548\n",
              "1     4640\n",
              "Name: y, dtype: int64"
            ]
          },
          "metadata": {},
          "execution_count": 97
        }
      ]
    },
    {
      "cell_type": "markdown",
      "source": [
        "#Feature Selection"
      ],
      "metadata": {
        "id": "9il2q1cWOYwa"
      }
    },
    {
      "cell_type": "code",
      "source": [
        "#selectkmethod does not work here since we have negative values."
      ],
      "metadata": {
        "id": "_3mtHL9qRYrR"
      },
      "execution_count": null,
      "outputs": []
    },
    {
      "cell_type": "code",
      "source": [
        "# Feature Importance\n",
        "model = RandomForestClassifier()\n",
        "# fit the model\n",
        "model.fit(X, y)\n",
        "# get importance\n",
        "importance = model.feature_importances_\n",
        "# summarize feature importance\n",
        "for i,v in enumerate(importance):\n",
        " print('Feature: %0d, Score: %.5f' % (i,v))\n",
        "# plot feature importance\n",
        "plt.bar([x for x in range(len(importance))], importance)\n",
        "plt.show()"
      ],
      "metadata": {
        "id": "nvBQLe9TQDjn",
        "colab": {
          "base_uri": "https://localhost:8080/",
          "height": 605
        },
        "outputId": "fd93cd60-92fc-4a86-a37f-c787f1ccdbae"
      },
      "execution_count": null,
      "outputs": [
        {
          "output_type": "display_data",
          "data": {
            "text/plain": [
              "<IPython.core.display.Javascript object>"
            ],
            "application/javascript": [
              "\n",
              "        if (window._pyforest_update_imports_cell) { window._pyforest_update_imports_cell('from sklearn.model_selection import train_test_split\\nimport pandas as pd\\nimport plotly.express as px\\nfrom sklearn.ensemble import RandomForestClassifier'); }\n",
              "    "
            ]
          },
          "metadata": {}
        },
        {
          "output_type": "stream",
          "name": "stdout",
          "text": [
            "Feature: 0, Score: 0.09167\n",
            "Feature: 1, Score: 0.04859\n",
            "Feature: 2, Score: 0.02390\n",
            "Feature: 3, Score: 0.04371\n",
            "Feature: 4, Score: 0.00896\n",
            "Feature: 5, Score: 0.02064\n",
            "Feature: 6, Score: 0.01492\n",
            "Feature: 7, Score: 0.00973\n",
            "Feature: 8, Score: 0.01832\n",
            "Feature: 9, Score: 0.04025\n",
            "Feature: 10, Score: 0.32217\n",
            "Feature: 11, Score: 0.04268\n",
            "Feature: 12, Score: 0.02626\n",
            "Feature: 13, Score: 0.01409\n",
            "Feature: 14, Score: 0.03810\n",
            "Feature: 15, Score: 0.01907\n",
            "Feature: 16, Score: 0.02223\n",
            "Feature: 17, Score: 0.02640\n",
            "Feature: 18, Score: 0.10708\n",
            "Feature: 19, Score: 0.06122\n"
          ]
        },
        {
          "output_type": "display_data",
          "data": {
            "text/plain": [
              "<Figure size 432x288 with 1 Axes>"
            ],
            "image/png": "[encoded data removed]"
          },
          "metadata": {
            "needs_background": "light"
          }
        }
      ]
    },
    {
      "cell_type": "markdown",
      "source": [
        "# Recursive Feature Elimination"
      ],
      "metadata": {
        "id": "UPGm8_u1Hirz"
      }
    },
    {
      "cell_type": "code",
      "source": [
        "from sklearn.feature_selection import RFE\n",
        "from sklearn.tree import DecisionTreeClassifier\n",
        "rfe = RFE(estimator=DecisionTreeClassifier(), n_features_to_select=10)\n",
        "rfe = rfe.fit(X, y)\n",
        "print(X.columns)\n",
        "print(rfe.support_)\n",
        "rfe.ranking_\n"
      ],
      "metadata": {
        "colab": {
          "base_uri": "https://localhost:8080/"
        },
        "id": "dP2_BsZPHmxh",
        "outputId": "2f65dd01-105a-437b-dead-d3ccdf02802e"
      },
      "execution_count": null,
      "outputs": [
        {
          "output_type": "stream",
          "name": "stdout",
          "text": [
            "Index(['Age', 'Job', 'Marital', 'Education', 'Default', 'housing', 'Loan',\n",
            "       'Contact', 'Month', 'day_of_week', 'duration', 'campaign', 'pdays',\n",
            "       'previous', 'poutcome', 'empvarrate', 'conspriceidx', 'consconfidx',\n",
            "       'euribor3m', 'nremployed'],\n",
            "      dtype='object')\n",
            "[ True  True False  True False False False False False  True  True  True\n",
            "  True False False False False  True  True  True]\n"
          ]
        },
        {
          "output_type": "execute_result",
          "data": {
            "text/plain": [
              "array([ 1,  1,  2,  1,  9,  3,  6, 10,  4,  1,  1,  1,  1,  5,  8, 11,  7,\n",
              "        1,  1,  1])"
            ]
          },
          "metadata": {},
          "execution_count": 35
        }
      ]
    },
    {
      "cell_type": "markdown",
      "source": [
        "1 represents the top most impactful features to be used for the model training and the rest of the features have ranking as per their significance.\n",
        "\n",
        "Wherever you find True that is one of the features to select.\n",
        "\n",
        "please implement only these features in your final model and demonstrate the difference when used feature selection and when not used.\n",
        "\n"
      ],
      "metadata": {
        "id": "zkiB_XTsPlat"
      }
    },
    {
      "cell_type": "markdown",
      "source": [
        "Note : I am not considering feature selection and multicolinearity results. you may choose to do it and observe the differece."
      ],
      "metadata": {
        "id": "xW-E3-ujp4LH"
      }
    },
    {
      "cell_type": "markdown",
      "source": [
        "Assumptions of Logistic Regression"
      ],
      "metadata": {
        "id": "wyNP6ZgMlHRO"
      }
    },
    {
      "cell_type": "markdown",
      "source": [
        "(a) binary logistic regression requires the dependent variable to be binary and\n",
        "\n",
        "(b) ordinal logistic regression requires the dependent variable to be ordinal.\n",
        "\n",
        "(c)Observations should be independent of each other\n",
        "little or no multi-collinearity among the independent variables\n"
      ],
      "metadata": {
        "id": "zb0P0b9FKXU7"
      }
    },
    {
      "cell_type": "markdown",
      "source": [
        "## Note:Please implement only Logistic regression for now.however, once you are done with all the remaining models in the class you can implement them to compare results."
      ],
      "metadata": {
        "id": "OAUvELfADnRZ"
      }
    },
    {
      "cell_type": "markdown",
      "source": [
        "Importing different Libraries for models building."
      ],
      "metadata": {
        "id": "6_N8MaWQlXQg"
      }
    },
    {
      "cell_type": "code",
      "source": [
        "from sklearn.metrics import accuracy_score, log_loss\n",
        "from sklearn.linear_model import LogisticRegression\n",
        "from sklearn.neighbors import KNeighborsClassifier\n",
        "from sklearn import svm\n",
        "from sklearn.tree import DecisionTreeClassifier\n",
        "from sklearn.ensemble import RandomForestClassifier, AdaBoostClassifier\n",
        "from sklearn.naive_bayes import GaussianNB\n",
        "from sklearn.discriminant_analysis import QuadraticDiscriminantAnalysis\n",
        "from xgboost import XGBClassifier\n",
        "import xgboost\n",
        "import math\n",
        "from sklearn import metrics\n",
        "from sklearn.metrics import accuracy_score , classification_report, ConfusionMatrixDisplay,precision_score,recall_score, f1_score,roc_auc_score,roc_curve"
      ],
      "metadata": {
        "id": "xvIcZrdeNNaH"
      },
      "execution_count": null,
      "outputs": []
    },
    {
      "cell_type": "markdown",
      "source": [
        "# Model builing on imbalanced dataset"
      ],
      "metadata": {
        "id": "5AOZrrpVnm3s"
      }
    },
    {
      "cell_type": "code",
      "source": [
        "models={\n",
        "    \"Logisitic Regression\" :LogisticRegression(max_iter=20000),\n",
        "    \"Decision Tree\" :DecisionTreeClassifier(),\n",
        "    \"Random Forest\":RandomForestClassifier(),\n",
        "    \"Support Vector Machine\": svm.SVC(),\n",
        "    \"K-Nearest Neighbors\": KNeighborsClassifier(n_neighbors=3)\n",
        "}\n",
        "\n",
        "for i in range(len(list(models))):\n",
        "    model = list(models.values())[i]\n",
        "    model.fit(X_train,y_train.values.ravel()) # Train Model\n",
        "\n",
        "    # Make predictions\n",
        "    y_train_pred = model.predict(X_train)\n",
        "    y_test_pred =  model.predict(X_test)\n",
        "\n",
        "  # Performance of Test set\n",
        "    model_test_accuracy = accuracy_score(y_test, y_test_pred)\n",
        "    model_test_f1 = f1_score(y_test, y_test_pred, average='weighted')\n",
        "    model_test_precision = precision_score(y_test, y_test_pred , average='weighted')\n",
        "    model_test_recall  = recall_score(y_test, y_test_pred,average='weighted')\n",
        "\n",
        "  # Performance of Training set\n",
        "    model_train_accuracy = accuracy_score(y_train, y_train_pred)\n",
        "    model_train_f1 = f1_score(y_train, y_train_pred, average= 'weighted')\n",
        "    model_train_precision = precision_score(y_train, y_train_pred,average='weighted')\n",
        "    model_train_recall = recall_score(y_train, y_train_pred,average='weighted')\n",
        "\n",
        "    print(list(models.keys())[i])\n",
        "\n",
        "    print('Model performance for Training set')\n",
        "    print(\"- Accuracy: {:.2f}\".format(model_train_accuracy))\n",
        "    print('- F1 score: {:2f}'.format(model_train_f1))\n",
        "    print('- Precision: {:2f}'.format(model_train_precision))\n",
        "    print('- Recall: {:2f}'.format(model_train_recall))\n",
        "\n",
        "    print('----------------------------------')\n",
        "\n",
        "    print('Model performance for Test set')\n",
        "    print('- Accuracy: {:.2f}'.format(model_test_accuracy) )\n",
        "    print('- Fl score: {:.2f}'.format(model_test_f1))\n",
        "    print('- Precision: {:.2f}'.format(model_test_precision))\n",
        "    print('- Recall: {:.2f}'.format(model_test_recall))\n",
        "\n",
        "\n",
        "    print('='*30)\n",
        "    print('\\n')"
      ],
      "metadata": {
        "id": "bi8vN4dwKkOy",
        "colab": {
          "base_uri": "https://localhost:8080/"
        },
        "outputId": "9e96d9ca-d0bb-4047-b691-bd4cce7d0498"
      },
      "execution_count": null,
      "outputs": [
        {
          "output_type": "stream",
          "name": "stdout",
          "text": [
            "Logisitic Regression\n",
            "Model performance for Training set\n",
            "- Accuracy: 0.90\n",
            "- F1 score: 0.875390\n",
            "- Precision: 0.875215\n",
            "- Recall: 0.896327\n",
            "----------------------------------\n",
            "Model performance for Test set\n",
            "- Accuracy: 0.90\n",
            "- Fl score: 0.88\n",
            "- Precision: 0.88\n",
            "- Recall: 0.90\n",
            "==============================\n",
            "\n",
            "\n",
            "Decision Tree\n",
            "Model performance for Training set\n",
            "- Accuracy: 1.00\n",
            "- F1 score: 1.000000\n",
            "- Precision: 1.000000\n",
            "- Recall: 1.000000\n",
            "----------------------------------\n",
            "Model performance for Test set\n",
            "- Accuracy: 0.87\n",
            "- Fl score: 0.87\n",
            "- Precision: 0.87\n",
            "- Recall: 0.87\n",
            "==============================\n",
            "\n",
            "\n",
            "Random Forest\n",
            "Model performance for Training set\n",
            "- Accuracy: 1.00\n",
            "- F1 score: 1.000000\n",
            "- Precision: 1.000000\n",
            "- Recall: 1.000000\n",
            "----------------------------------\n",
            "Model performance for Test set\n",
            "- Accuracy: 0.90\n",
            "- Fl score: 0.89\n",
            "- Precision: 0.89\n",
            "- Recall: 0.90\n",
            "==============================\n",
            "\n",
            "\n",
            "Support Vector Machine\n",
            "Model performance for Training set\n",
            "- Accuracy: 0.90\n",
            "- F1 score: 0.878192\n",
            "- Precision: 0.887829\n",
            "- Recall: 0.902397\n",
            "----------------------------------\n",
            "Model performance for Test set\n",
            "- Accuracy: 0.90\n",
            "- Fl score: 0.87\n",
            "- Precision: 0.88\n",
            "- Recall: 0.90\n",
            "==============================\n",
            "\n",
            "\n",
            "K-Nearest Neighbors\n",
            "Model performance for Training set\n",
            "- Accuracy: 0.93\n",
            "- F1 score: 0.921905\n",
            "- Precision: 0.921771\n",
            "- Recall: 0.928098\n",
            "----------------------------------\n",
            "Model performance for Test set\n",
            "- Accuracy: 0.88\n",
            "- Fl score: 0.87\n",
            "- Precision: 0.87\n",
            "- Recall: 0.88\n",
            "==============================\n",
            "\n",
            "\n"
          ]
        }
      ]
    },
    {
      "cell_type": "markdown",
      "source": [
        "Observations: From the metrics of above models, we can see decision tree and Random forest are overfitting and rest of the models produce almost similar accuracy.\n",
        "\n",
        "Moreover, these results are based on imbalanced dataset. therefore, we need to perform smote to balance our dataset and apply these models and compare results."
      ],
      "metadata": {
        "id": "0Gojm5l_E9mY"
      }
    },
    {
      "cell_type": "markdown",
      "source": [
        "# SMOTE- for Imbalanced dataset"
      ],
      "metadata": {
        "id": "QxaO7ZBQmUkO"
      }
    },
    {
      "cell_type": "code",
      "source": [
        "pip install imbalanced-learn\n"
      ],
      "metadata": {
        "id": "i1ey7blKNESL",
        "colab": {
          "base_uri": "https://localhost:8080/"
        },
        "outputId": "70b6d0a8-e466-4988-c0c3-fca170cd5847"
      },
      "execution_count": null,
      "outputs": [
        {
          "output_type": "stream",
          "name": "stdout",
          "text": [
            "Looking in indexes: https://pypi.org/simple, https://us-python.pkg.dev/colab-wheels/public/simple/\n",
            "Requirement already satisfied: imbalanced-learn in /usr/local/lib/python3.8/dist-packages (0.8.1)\n",
            "Requirement already satisfied: numpy>=1.13.3 in /usr/local/lib/python3.8/dist-packages (from imbalanced-learn) (1.22.4)\n",
            "Requirement already satisfied: scipy>=0.19.1 in /usr/local/lib/python3.8/dist-packages (from imbalanced-learn) (1.10.1)\n",
            "Requirement already satisfied: scikit-learn>=0.24 in /usr/local/lib/python3.8/dist-packages (from imbalanced-learn) (1.2.1)\n",
            "Requirement already satisfied: joblib>=0.11 in /usr/local/lib/python3.8/dist-packages (from imbalanced-learn) (1.2.0)\n",
            "Requirement already satisfied: threadpoolctl>=2.0.0 in /usr/local/lib/python3.8/dist-packages (from scikit-learn>=0.24->imbalanced-learn) (3.1.0)\n"
          ]
        }
      ]
    },
    {
      "cell_type": "code",
      "source": [
        "from imblearn.over_sampling import SMOTE\n",
        "\n",
        "smote = SMOTE()\n",
        "x_smote, y_smote = smote.fit_resample(X, y)\n",
        "\n"
      ],
      "metadata": {
        "id": "JBuusG8NST9R"
      },
      "execution_count": null,
      "outputs": []
    },
    {
      "cell_type": "code",
      "source": [
        "y_smote.value_counts()"
      ],
      "metadata": {
        "id": "wgbn0oLhSz_p",
        "colab": {
          "base_uri": "https://localhost:8080/"
        },
        "outputId": "43bdfce0-3d14-4778-ae34-57b2a1925143"
      },
      "execution_count": null,
      "outputs": [
        {
          "output_type": "execute_result",
          "data": {
            "text/plain": [
              "0    36548\n",
              "1    36548\n",
              "Name: y, dtype: int64"
            ]
          },
          "metadata": {},
          "execution_count": 100
        }
      ]
    },
    {
      "cell_type": "code",
      "source": [
        "X_train, X_test, y_train, y_test = train_test_split(x_smote, y_smote, test_size = 0.3, random_state = 42)\n"
      ],
      "metadata": {
        "id": "20OouFLKTtdO",
        "colab": {
          "base_uri": "https://localhost:8080/",
          "height": 17
        },
        "outputId": "7a547376-9ef4-4879-88b8-36915c481b51"
      },
      "execution_count": null,
      "outputs": [
        {
          "output_type": "display_data",
          "data": {
            "text/plain": [
              "<IPython.core.display.Javascript object>"
            ],
            "application/javascript": [
              "\n",
              "        if (window._pyforest_update_imports_cell) { window._pyforest_update_imports_cell('from sklearn.linear_model import LogisticRegression\\nfrom sklearn.linear_model import Lasso\\nfrom sklearn.linear_model import LassoCV\\nimport plotly.express as px\\nfrom sklearn.preprocessing import PolynomialFeatures\\nimport xgboost as xgb\\nfrom sklearn.ensemble import GradientBoostingRegressor\\nimport pandas as pd\\nfrom sklearn.linear_model import ElasticNet\\nfrom sklearn.ensemble import GradientBoostingClassifier\\nfrom sklearn.model_selection import KFold\\nfrom sklearn.feature_extraction.text import CountVectorizer\\nfrom sklearn.model_selection import GridSearchCV\\nfrom sklearn.preprocessing import MinMaxScaler\\nimport plotly as py\\nimport pickle\\nfrom sklearn.linear_model import LinearRegression\\nfrom sklearn.preprocessing import OneHotEncoder\\nfrom pathlib import Path\\nfrom sklearn.linear_model import ElasticNetCV\\nimport pydot\\nfrom PIL import Image\\nfrom sklearn.decomposition import PCA\\nfrom sklearn.model_selection import train_test_split\\nfrom sklearn import svm\\nfrom statsmodels.tsa.arima_model import ARIMA\\nfrom sklearn.cluster import KMeans\\nfrom sklearn.ensemble import RandomForestClassifier\\nimport altair as alt'); }\n",
              "    "
            ]
          },
          "metadata": {}
        }
      ]
    },
    {
      "cell_type": "code",
      "source": [
        "#Model building after applying SMOTE"
      ],
      "metadata": {
        "id": "0v62h_RVnrPk"
      },
      "execution_count": null,
      "outputs": []
    },
    {
      "cell_type": "code",
      "source": [
        "models={\n",
        "    \"Logisitic Regression\" :LogisticRegression(max_iter=20000),\n",
        "    \"Decision Tree\" :DecisionTreeClassifier(),\n",
        "    \"Random Forest\":RandomForestClassifier(),\n",
        "    #\"Support Vector Machine\": svm.SVC(),\n",
        "    #\"K-Nearest Neighbors\": KNeighborsClassifier(n_neighbors=3)\n",
        "}\n",
        "\n",
        "for i in range(len(list(models))):\n",
        "    model = list(models.values())[i]\n",
        "    model.fit(X_train,y_train.values.ravel()) # Training each of the Models\n",
        "\n",
        "\n",
        "    # Make predictions\n",
        "    y_train_pred = model.predict(X_train)\n",
        "    y_test_pred =  model.predict(X_test)\n",
        "\n",
        "  # Performance of Test set\n",
        "    model_test_accuracy = accuracy_score(y_test, y_test_pred)\n",
        "    model_test_f1 = f1_score(y_test, y_test_pred, average='weighted')\n",
        "    model_test_precision = precision_score(y_test, y_test_pred , average='weighted')\n",
        "    model_test_recall  = recall_score(y_test, y_test_pred,average='weighted')\n",
        "\n",
        "  # Performance of Training set\n",
        "    model_train_accuracy = accuracy_score(y_train, y_train_pred)\n",
        "    model_train_f1 = f1_score(y_train, y_train_pred, average= 'weighted')\n",
        "    model_train_precision = precision_score(y_train, y_train_pred,average='weighted')\n",
        "    model_train_recall = recall_score(y_train, y_train_pred,average='weighted')\n",
        "\n",
        "    print(list(models.keys())[i])\n",
        "\n",
        "    print('Model performance for Training set')\n",
        "    print(\"- Accuracy: {:.2f}\".format(model_train_accuracy))\n",
        "    print('- F1 score: {:2f}'.format(model_train_f1))\n",
        "    print('- Precision: {:2f}'.format(model_train_precision))\n",
        "    print('- Recall: {:2f}'.format(model_train_recall))\n",
        "\n",
        "    print('----------------------------------')\n",
        "\n",
        "    print('Model performance for Test set')\n",
        "    print('- Accuracy: {:.2f}'.format(model_test_accuracy) )\n",
        "    print('- Fl score: {:.2f}'.format(model_test_f1))\n",
        "    print('- Precision: {:.2f}'.format(model_test_precision))\n",
        "    print('- Recall: {:.2f}'.format(model_test_recall))\n",
        "\n",
        "\n",
        "    print('='*30)\n",
        "    print('\\n')"
      ],
      "metadata": {
        "id": "ROOX66rwTNju",
        "colab": {
          "base_uri": "https://localhost:8080/"
        },
        "outputId": "326d0d57-515b-49e4-9795-060c787c441f"
      },
      "execution_count": null,
      "outputs": [
        {
          "output_type": "stream",
          "name": "stdout",
          "text": [
            "Logisitic Regression\n",
            "Model performance for Training set\n",
            "- Accuracy: 0.83\n",
            "- F1 score: 0.825647\n",
            "- Precision: 0.826114\n",
            "- Recall: 0.825708\n",
            "----------------------------------\n",
            "Model performance for Test set\n",
            "- Accuracy: 0.82\n",
            "- Fl score: 0.82\n",
            "- Precision: 0.82\n",
            "- Recall: 0.82\n",
            "==============================\n",
            "\n",
            "\n",
            "Decision Tree\n",
            "Model performance for Training set\n",
            "- Accuracy: 1.00\n",
            "- F1 score: 0.999902\n",
            "- Precision: 0.999902\n",
            "- Recall: 0.999902\n",
            "----------------------------------\n",
            "Model performance for Test set\n",
            "- Accuracy: 0.89\n",
            "- Fl score: 0.89\n",
            "- Precision: 0.89\n",
            "- Recall: 0.89\n",
            "==============================\n",
            "\n",
            "\n",
            "Random Forest\n",
            "Model performance for Training set\n",
            "- Accuracy: 1.00\n",
            "- F1 score: 0.999883\n",
            "- Precision: 0.999883\n",
            "- Recall: 0.999883\n",
            "----------------------------------\n",
            "Model performance for Test set\n",
            "- Accuracy: 0.92\n",
            "- Fl score: 0.92\n",
            "- Precision: 0.92\n",
            "- Recall: 0.92\n",
            "==============================\n",
            "\n",
            "\n"
          ]
        }
      ]
    },
    {
      "cell_type": "markdown",
      "source": [
        "Observations: After performing smote, we see that Decision tree and random forest still overfit whereas Logisitc regression looks good comparatively."
      ],
      "metadata": {
        "id": "YaqVyBmXFm2-"
      }
    },
    {
      "cell_type": "markdown",
      "source": [
        "In conclusion, We have trained different models on our dataset and determined a few of them worked better and others overfit. Therefore, we could choose the model of our choice from the better models to classify whether or not person subscribes to term deposit."
      ],
      "metadata": {
        "id": "RcegOcKrF-2c"
      }
    },
    {
      "cell_type": "code",
      "source": [],
      "metadata": {
        "id": "7Pla2_msPVuf"
      },
      "execution_count": null,
      "outputs": []
    }
  ]
}